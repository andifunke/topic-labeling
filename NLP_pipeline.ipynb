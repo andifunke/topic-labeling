{
 "cells": [
  {
   "cell_type": "code",
   "execution_count": null,
   "metadata": {},
   "outputs": [],
   "source": [
    "import re\n",
    "from os import listdir, makedirs\n",
    "from os.path import isfile, join\n",
    "from time import time\n",
    "import importlib\n",
    "\n",
    "import constants\n",
    "import project_logging\n",
    "import nlp_processor\n",
    "\n",
    "from constants import *\n",
    "from project_logging import log\n",
    "from nlp_processor import NLPProcessor\n",
    "\n",
    "# set flags to avoid multiple logging handlers\n",
    "NOTEBOOK = True  # additional StreamHandler disabled if True (should always be true in IPython)\n",
    "LOG = False  # set to True to write to log file\n",
    "# LOG_PATH = ...  # overwrite default log file path"
   ]
  },
  {
   "cell_type": "code",
   "execution_count": null,
   "metadata": {},
   "outputs": [],
   "source": [
    "importlib.reload(constants)\n",
    "importlib.reload(project_logging)\n",
    "importlib.reload(nlp_processor)\n",
    "\n",
    "log(\"##### START #####\")\n",
    "\n",
    "\n",
    "### --- run ---\n",
    "\n",
    "t0 = time()\n",
    "\n",
    "LOCAL_PATH = ETL_BASE\n",
    "FULL_PATH = join(DATA_BASE, LOCAL_PATH)\n",
    "\n",
    "# filter files for certain prefixes\n",
    "prefixes = r'^(' + '|'.join(CORPUS_PREFIXES) + r').'\n",
    "pattern = re.compile(prefixes)\n",
    "files = sorted([f for f in listdir(FULL_PATH)\n",
    "                if (isfile(join(FULL_PATH, f)) and pattern.match(f))])\n",
    "processor = NLPProcessor(spacy_path=DE)\n",
    "\n",
    "for name in files:\n",
    "    corpus = re.split(r'\\.|_', name)[0]\n",
    "    fname = join(FULL_PATH, name)\n",
    "    df = processor.read_process_load(fname, corpus, spacy_to_disk=False, size=1)\n",
    "\n",
    "t1 = int(time() - t0)\n",
    "log(\"finished in {:02d}:{:02d}:{:02d} minutes\".format(t1//3600, t1//60, t1 % 60))\n",
    "\n",
    "df"
   ]
  },
  {
   "cell_type": "code",
   "execution_count": null,
   "metadata": {},
   "outputs": [],
   "source": [
    "print('-----')\n",
    "processor.read('/home/andreas/workspace/master_cloud/corpora/preprocessed/nlp/OnlineParticipation_nlp.pickle')"
   ]
  }
 ],
 "metadata": {
  "kernelspec": {
   "display_name": "Python 3",
   "language": "python",
   "name": "python3"
  },
  "language_info": {
   "codemirror_mode": {
    "name": "ipython",
    "version": 3
   },
   "file_extension": ".py",
   "mimetype": "text/x-python",
   "name": "python",
   "nbconvert_exporter": "python",
   "pygments_lexer": "ipython3",
   "version": "3.6.5"
  }
 },
 "nbformat": 4,
 "nbformat_minor": 1
}
