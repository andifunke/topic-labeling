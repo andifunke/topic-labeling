{
 "cells": [
  {
   "cell_type": "markdown",
   "metadata": {},
   "source": [
    "# Snippets\n",
    "\n",
    "short scripts worth keeping"
   ]
  },
  {
   "cell_type": "code",
   "execution_count": 1,
   "metadata": {},
   "outputs": [],
   "source": [
    "%matplotlib inline\n",
    "from collections import defaultdict\n",
    "from constants import *\n",
    "from os import listdir\n",
    "from os.path import isfile, join\n",
    "import gc\n",
    "import matplotlib.pyplot as plt\n",
    "import numpy as np\n",
    "import pandas as pd\n",
    "import re\n",
    "from tqdm._tqdm_notebook import tqdm_notebook\n",
    "tqdm_notebook.pandas()\n",
    "pd.options.display.max_rows = 2001"
   ]
  },
  {
   "cell_type": "markdown",
   "metadata": {},
   "source": [
    "-----\n",
    "\n",
    "## All corpora: Fix sent_idx in NLP"
   ]
  },
  {
   "cell_type": "code",
   "execution_count": 2,
   "metadata": {},
   "outputs": [],
   "source": [
    "def fix_sent_idx(f, store=False):\n",
    "    print(\"read\", f)\n",
    "    df = pd.read_pickle(f)\n",
    "    columns = df.columns.tolist()\n",
    "    len_old = len(df)\n",
    "    size_old = df.size\n",
    "\n",
    "    # create a count for each document\n",
    "    df_group = pd.DataFrame(df.groupby(HASH).head(1)[HASH]).reset_index(drop=True)\n",
    "    df_group['count'] = df_group.index\n",
    "\n",
    "    # append count to original DataFrame\n",
    "    df = df.merge(df_group[[HASH, 'count']], on=HASH)\n",
    "\n",
    "    # add document count to sent_idx\n",
    "    df['sent_idx'] += df['count']\n",
    "    df = df[columns]\n",
    "    len_new = len(df)\n",
    "    size_new = df.size\n",
    "    assert len_old == len_new\n",
    "    assert size_old == size_new\n",
    "\n",
    "    if store:\n",
    "        print(\"write\", f)\n",
    "        df.to_pickle(f)\n",
    "\n",
    "    #return df"
   ]
  },
  {
   "cell_type": "code",
   "execution_count": null,
   "metadata": {
    "scrolled": true
   },
   "outputs": [],
   "source": [
    "# apply on nlp\n",
    "path = NLP_PATH\n",
    "number = None\n",
    "files = sorted([f for f in listdir(path) if isfile(join(path, f))], key=lambda s: s.lower())\n",
    "for name in files[:number]:\n",
    "    if name.startswith('dewac'):\n",
    "        gc.collect()\n",
    "        gc.collect()\n",
    "        f = join(path, name)\n",
    "        fix_sent_idx(f, store=True)"
   ]
  },
  {
   "cell_type": "code",
   "execution_count": null,
   "metadata": {
    "scrolled": true
   },
   "outputs": [],
   "source": [
    "# apply on simple ... will not work. better redo simple\n",
    "path = SMPL_PATH\n",
    "number = 2\n",
    "files = sorted([f for f in listdir(path) if isfile(join(path, f))], key=lambda s: s.lower())\n",
    "for name in files[:number]:\n",
    "    f = join(path, name)\n",
    "    df = fix_sent_idx(f, store=True)"
   ]
  },
  {
   "cell_type": "code",
   "execution_count": null,
   "metadata": {
    "scrolled": true
   },
   "outputs": [],
   "source": [
    "df.groupby(HASH, sort=False).apply(lambda x: x.head(5).append(x.tail(5)))[[SENT_IDX, TOK_IDX, TOKEN]]"
   ]
  },
  {
   "cell_type": "markdown",
   "metadata": {},
   "source": [
    "-----\n",
    "\n",
    "## Restoring original document hashes\n",
    "\n",
    "for *_simple files (after accidental dtype conversion during phrase extraction)"
   ]
  },
  {
   "cell_type": "code",
   "execution_count": null,
   "metadata": {},
   "outputs": [],
   "source": [
    "corpus = 'FAZ'\n",
    "f = join(NLP_PATH, corpus + '_nlp.pickle')\n",
    "dfn = pd.read_pickle(f)\n",
    "f = join(SMPL_PATH, corpus + '_simple.pickle')\n",
    "dfs = pd.read_pickle(f)"
   ]
  },
  {
   "cell_type": "code",
   "execution_count": null,
   "metadata": {
    "scrolled": true
   },
   "outputs": [],
   "source": [
    "pd.options.display.max_rows = 2005\n",
    "dfn.loc[0:500, [HASH, SENT_IDX, TOK_IDX, TOKEN]]"
   ]
  },
  {
   "cell_type": "code",
   "execution_count": null,
   "metadata": {
    "scrolled": true
   },
   "outputs": [],
   "source": [
    "dfs = dfs.rename(columns={'hash': 'hash_wrong'})\n",
    "dfs[0:300]\n",
    "# hm this is bad: first word of document is in wrong order - better redo simple"
   ]
  },
  {
   "cell_type": "code",
   "execution_count": null,
   "metadata": {},
   "outputs": [],
   "source": [
    "#dfs_u = dfs[SENT_IDX].unique()\n",
    "dfng = dfn.groupby(['hash', SENT_IDX]).head(1)\n",
    "dfsg = dfs.groupby(['hash_wrong', SENT_IDX]).head(1)"
   ]
  },
  {
   "cell_type": "code",
   "execution_count": null,
   "metadata": {
    "scrolled": true
   },
   "outputs": [],
   "source": [
    "dfsg[['hash_wrong', SENT_IDX, POS]]"
   ]
  },
  {
   "cell_type": "code",
   "execution_count": null,
   "metadata": {
    "scrolled": true
   },
   "outputs": [],
   "source": [
    "# 1) joining on index: -> not working\n",
    "# 2) joining \n",
    "dfx = dfs.join(dfn[HASH])\n",
    "dfx['diff'] = (dfx['hash_wrong'] - dfx[HASH]).abs()\n",
    "dfx[[HASH, 'hash_wrong', 'diff']]"
   ]
  },
  {
   "cell_type": "code",
   "execution_count": null,
   "metadata": {
    "scrolled": true
   },
   "outputs": [],
   "source": [
    "dfx[dfx.POS == 'NPHRASE']"
   ]
  },
  {
   "cell_type": "markdown",
   "metadata": {},
   "source": [
    "------\n",
    "\n",
    "## preprocess FAZ"
   ]
  },
  {
   "cell_type": "markdown",
   "metadata": {},
   "source": [
    "### Join FAZ and FAZ2 and remove duplicates"
   ]
  },
  {
   "cell_type": "code",
   "execution_count": null,
   "metadata": {},
   "outputs": [],
   "source": [
    "fname1 = 'FAZ.pickle'\n",
    "fpath1 = join(ETL_PATH, fname1)\n",
    "df1 = pd.read_pickle(fpath1)\n",
    "fname2 = 'FAZ2.pickle'\n",
    "fpath2 = join(ETL_PATH, fname2)\n",
    "df2 = pd.read_pickle(fpath2)\n",
    "\n",
    "df1['new'] = False\n",
    "combined = pd.concat([df1, df2])\n",
    "c1 = combined\n",
    "c2 = combined[~combined.duplicated(subset=[TITLE])]\n",
    "c1.shape, c2.shape"
   ]
  },
  {
   "cell_type": "code",
   "execution_count": null,
   "metadata": {},
   "outputs": [],
   "source": [
    "df = c2\n",
    "del c1, c2, df1, df2\n",
    "df = df[~df.subset.isin(\n",
    "    [\n",
    "        'angst-in-chemnitz-und-arroganz-im-dfb-team-15762511.html',\n",
    "        'faz-net-sprinter-dumm-aber-sexy-15758998.html',\n",
    "        'faz-net-sprinter-gehoert-sachsen-noch-zu-deutschland-15760532.html',\n",
    "        'reise',\n",
    "        #'rhein-main',\n",
    "        'sport',\n",
    "        #'technik-motor',\n",
    "    ]\n",
    ")]\n",
    "df.groupby('subset').describe()"
   ]
  },
  {
   "cell_type": "markdown",
   "metadata": {},
   "source": [
    "### Find encrypted articles (FAZ)"
   ]
  },
  {
   "cell_type": "code",
   "execution_count": null,
   "metadata": {
    "scrolled": true
   },
   "outputs": [],
   "source": [
    "# inspect the first entries to create a training set\n",
    "df['str_len'] = df[TEXT].str.len()\n",
    "half = df.apply(lambda x: x[TEXT][x['str_len']//2:], axis=1)\n",
    "half.head(30)"
   ]
  },
  {
   "cell_type": "code",
   "execution_count": null,
   "metadata": {},
   "outputs": [],
   "source": [
    "# the first 25 articles are ok\n",
    "trainset = df.iloc[:25][TEXT].tolist()\n",
    "char_freq_train = defaultdict(int)\n",
    "train_len = 0\n",
    "FACTOR = 0.001\n",
    "for string in trainset:\n",
    "    train_len += len(string)\n",
    "    for char in string.lower():\n",
    "        char_freq_train[char] += 1\n",
    "for k in char_freq_train.keys():\n",
    "    char_freq_train[k] //= (train_len * FACTOR)\n",
    "print(char_freq_train)\n",
    "\n",
    "def encryption_score(string):\n",
    "    distance = 0\n",
    "    doc_freq = defaultdict(int)\n",
    "    doc_len = len(string)//2\n",
    "    if doc_len == 0:\n",
    "        return 1000\n",
    "    string = string[doc_len:]\n",
    "    for char in string.lower():\n",
    "        doc_freq[char] += 1\n",
    "    for k in doc_freq.keys():\n",
    "        doc_freq[k] //= (doc_len * FACTOR)\n",
    "        distance += abs(doc_freq[k] - char_freq_train.get(k, 0))\n",
    "    return int(distance)\n",
    "    \n",
    "# compare scores for non-encrypted and encrypted articles\n",
    "good = df.iloc[-20:][TEXT].tolist()\n",
    "print([encryption_score(string) for string in good])\n",
    "bad = df.loc[5598736571409986456, TEXT]\n",
    "print(encryption_score(bad))"
   ]
  },
  {
   "cell_type": "code",
   "execution_count": null,
   "metadata": {
    "scrolled": true
   },
   "outputs": [],
   "source": [
    "# apply metric on corpus\n",
    "df['enc_score'] = df[TEXT].apply(encryption_score)\n",
    "df[[TEXT, 'enc_score']]"
   ]
  },
  {
   "cell_type": "code",
   "execution_count": null,
   "metadata": {},
   "outputs": [],
   "source": [
    "# evaluate results\n",
    "plt.scatter(df.index, df.enc_score)"
   ]
  },
  {
   "cell_type": "code",
   "execution_count": null,
   "metadata": {},
   "outputs": [],
   "source": [
    "# 300 seems to be a valid limit. We don't loose too many good articles here\n",
    "outlier1 = df.loc[df.enc_score.between(300, 350), TEXT].tolist()\n",
    "outlier2 = df.loc[df.enc_score.between(350, 550), TEXT].tolist()\n",
    "len(outlier1), len(outlier2)"
   ]
  },
  {
   "cell_type": "code",
   "execution_count": null,
   "metadata": {},
   "outputs": [],
   "source": [
    "df = df[df.enc_score <= 300]\n",
    "len(df)"
   ]
  },
  {
   "cell_type": "code",
   "execution_count": null,
   "metadata": {},
   "outputs": [],
   "source": [
    "df = df.drop(['enc_score', 'str_len', 'new'], axis=1)\n",
    "df.to_pickle(join(ETL_PATH, 'FAZ_combined.pickle'))\n"
   ]
  },
  {
   "cell_type": "code",
   "execution_count": 2,
   "metadata": {},
   "outputs": [
    {
     "data": {
      "text/plain": [
       "(49758, 10)"
      ]
     },
     "execution_count": 2,
     "metadata": {},
     "output_type": "execute_result"
    }
   ],
   "source": [
    "pd.read_pickle(join(ETL_PATH, 'FAZ_combined.pickle')).shape"
   ]
  },
  {
   "cell_type": "markdown",
   "metadata": {},
   "source": [
    "### balanced sample of dataset (FAZ)"
   ]
  },
  {
   "cell_type": "code",
   "execution_count": null,
   "metadata": {},
   "outputs": [],
   "source": [
    "dfx = df.sample(frac=1, random_state=12345)  # shuffle DataFrame for a random sample\n",
    "dfx = dfx.groupby('subset').head(2000)\n",
    "dfx.groupby('subset').describe().enc_score"
   ]
  },
  {
   "cell_type": "code",
   "execution_count": null,
   "metadata": {
    "scrolled": true
   },
   "outputs": [],
   "source": [
    "dfx.subset.head(25)"
   ]
  },
  {
   "cell_type": "code",
   "execution_count": null,
   "metadata": {},
   "outputs": [],
   "source": [
    "dfx.subset.to_pickle(join(ETL_PATH, 'FAZ_document_sample3.pickle'))"
   ]
  },
  {
   "cell_type": "markdown",
   "metadata": {},
   "source": [
    "------\n",
    "\n",
    "## preprocess FOCUS"
   ]
  },
  {
   "cell_type": "code",
   "execution_count": null,
   "metadata": {},
   "outputs": [],
   "source": [
    "fname1 = 'FOCUS_cleansed.pickle'\n",
    "fpath1 = join(ETL_PATH, fname1)\n",
    "df = pd.read_pickle(fpath1)"
   ]
  },
  {
   "cell_type": "markdown",
   "metadata": {},
   "source": [
    "### Find bad encoded articles (FOCUS)"
   ]
  },
  {
   "cell_type": "code",
   "execution_count": null,
   "metadata": {},
   "outputs": [],
   "source": [
    "# the first 25 articles are ok\n",
    "trainset = df.iloc[:25][TEXT].tolist()\n",
    "char_freq_train = defaultdict(int)\n",
    "train_len = 0\n",
    "FACTOR = 0.001\n",
    "for string in trainset:\n",
    "    train_len += len(string)\n",
    "    for char in string.lower():\n",
    "        char_freq_train[char] += 1\n",
    "for k in char_freq_train.keys():\n",
    "    char_freq_train[k] //= (train_len * FACTOR)\n",
    "print(char_freq_train)\n",
    "\n",
    "def encryption_score(string):\n",
    "    distance = 0\n",
    "    doc_freq = defaultdict(int)\n",
    "    doc_len = len(string)//2\n",
    "    if doc_len == 0:\n",
    "        return 1000\n",
    "    string = string[doc_len:]\n",
    "    for char in string.lower():\n",
    "        doc_freq[char] += 1\n",
    "    for k in doc_freq.keys():\n",
    "        doc_freq[k] //= (doc_len * FACTOR)\n",
    "        distance += abs(doc_freq[k] - char_freq_train.get(k, 0))\n",
    "    return int(distance)\n",
    "    \n",
    "# compare scores for non-encrypted and encrypted articles\n",
    "good = df.iloc[-20:][TEXT].tolist()\n",
    "print([encryption_score(string) for string in good])\n",
    "#bad = df.loc[5598736571409986456, TEXT]\n",
    "#print(encryption_score(bad))"
   ]
  },
  {
   "cell_type": "code",
   "execution_count": null,
   "metadata": {
    "scrolled": true
   },
   "outputs": [],
   "source": [
    "# apply metric on corpus\n",
    "df['enc_score'] = df[TEXT].apply(encryption_score)\n",
    "df[[TEXT, 'enc_score']]"
   ]
  },
  {
   "cell_type": "code",
   "execution_count": null,
   "metadata": {},
   "outputs": [],
   "source": [
    "# evaluate results\n",
    "plt.scatter(df.index, df.enc_score)"
   ]
  },
  {
   "cell_type": "code",
   "execution_count": null,
   "metadata": {},
   "outputs": [],
   "source": [
    "# 300 seems to be a valid limit. We don't loose too many good articles here\n",
    "outlier1 = df.loc[df.enc_score.between(300, 500), TEXT].tolist()\n",
    "outlier2 = df.loc[df.enc_score.between(400, 3000), TEXT].tolist()\n",
    "len(outlier1), len(outlier2)"
   ]
  },
  {
   "cell_type": "code",
   "execution_count": null,
   "metadata": {},
   "outputs": [],
   "source": [
    "outlier2"
   ]
  },
  {
   "cell_type": "code",
   "execution_count": null,
   "metadata": {},
   "outputs": [],
   "source": [
    "df.groupby('subset').describe().enc_score"
   ]
  },
  {
   "cell_type": "code",
   "execution_count": null,
   "metadata": {},
   "outputs": [],
   "source": [
    "df = df[df.enc_score <= 300]\n",
    "len(df)"
   ]
  },
  {
   "cell_type": "code",
   "execution_count": null,
   "metadata": {},
   "outputs": [],
   "source": [
    "df = df.drop(['enc_score'], axis=1)\n",
    "df.to_pickle(join(ETL_PATH, 'FOCUS_cleansed.pickle'))\n",
    "pd.read_pickle(join(ETL_PATH, 'FOCUS_cleansed.pickle')).shape"
   ]
  },
  {
   "cell_type": "markdown",
   "metadata": {},
   "source": [
    "### balanced sample of dataset (FOCUS)"
   ]
  },
  {
   "cell_type": "code",
   "execution_count": null,
   "metadata": {},
   "outputs": [],
   "source": [
    "dfx = df.sample(frac=1, random_state=12345)  # shuffle DataFrame for a random sample\n",
    "dfx = dfx.groupby('subset').head(2000)\n",
    "dfx.groupby('subset').describe()"
   ]
  },
  {
   "cell_type": "code",
   "execution_count": null,
   "metadata": {},
   "outputs": [],
   "source": [
    "dfx.subset.to_pickle(join(ETL_PATH, 'FOCUS_document_sample3.pickle'))"
   ]
  },
  {
   "cell_type": "markdown",
   "metadata": {},
   "source": [
    "### apply cleansing to nlp dataframe"
   ]
  },
  {
   "cell_type": "code",
   "execution_count": null,
   "metadata": {},
   "outputs": [],
   "source": [
    "corpus = 'FOCUS_cleansed'\n",
    "f = join(ETL_PATH, corpus + '.pickle')\n",
    "dfetl = pd.read_pickle(f)\n",
    "corpus = 'FOCUS_nlp'\n",
    "f = join(NLP_PATH, corpus + '.pickle')\n",
    "dfnlp = pd.read_pickle(f)"
   ]
  },
  {
   "cell_type": "code",
   "execution_count": null,
   "metadata": {},
   "outputs": [],
   "source": [
    "# remove problematic formatted articles\n",
    "ev = np.unique(dfetl.index.values)\n",
    "nv = np.unique(dfnlp.hash.values)\n",
    "print(ev.size, nv.size)\n",
    "print((np.union1d(ev, nv)).size, (np.intersect1d(ev, nv)).size)\n",
    "\n",
    "dfnlpx = dfnlp[dfnlp.hash.isin(ev)]\n",
    "print(dfnlpx.shape, dfnlp.shape)\n",
    "print(dfnlpx.groupby(HASH).head(1).shape)"
   ]
  },
  {
   "cell_type": "code",
   "execution_count": null,
   "metadata": {},
   "outputs": [],
   "source": [
    "# save\n",
    "corpus = 'FOCUS_cleansed_nlp'\n",
    "f = join(NLP_PATH, corpus + '.pickle')\n",
    "dfnlpx.to_pickle(f)"
   ]
  },
  {
   "cell_type": "markdown",
   "metadata": {},
   "source": [
    "-------\n",
    "\n",
    "## preprocess Wikipedia"
   ]
  },
  {
   "cell_type": "markdown",
   "metadata": {},
   "source": [
    "### Wikipedia - phrase extraction"
   ]
  },
  {
   "cell_type": "markdown",
   "metadata": {},
   "source": [
    "#### - applying phrases on simple"
   ]
  },
  {
   "cell_type": "code",
   "execution_count": null,
   "metadata": {},
   "outputs": [],
   "source": [
    "goodids = pd.read_pickle(join(ETL_PATH, 'dewiki_good_ids.pickle'))\n",
    "\n",
    "p = pd.read_pickle(join(ETL_PATH, 'dewiki_phrases_joined.pickle'))\n",
    "ps = set(p)\n",
    "bad = {\n",
    "    'ab', 'seit',\n",
    "}\n",
    "def ngrams(ser):\n",
    "    if ser[0] not in bad:\n",
    "        s = ser.str.cat(sep='_')\n",
    "        size = len(ser)\n",
    "        while size > 1:\n",
    "            if (s in ps):\n",
    "                return s, size\n",
    "            s = s.rsplit('_', 1)[0]\n",
    "            size -= 1\n",
    "    return np.nan, 0\n",
    "\n",
    "ps"
   ]
  },
  {
   "cell_type": "code",
   "execution_count": null,
   "metadata": {},
   "outputs": [],
   "source": [
    "pattern = re.compile(r'dewiki_\\d')\n",
    "files = sorted([f for f in listdir(SMPL_PATH)\n",
    "                if (isfile(join(SMPL_PATH, f)) and pattern.match(f))])\n",
    "\n",
    "for name in files[:]:\n",
    "    gc.collect()\n",
    "    gc.collect()\n",
    "    corpus = name.split('.')[0]\n",
    "    print(corpus, end=', ')\n",
    "    \n",
    "    f = join(SMPL_PATH, corpus + '.pickle')\n",
    "    df = pd.read_pickle(f)\n",
    "    df = df[df.hash.isin(goodids.index)]\n",
    "    df = df.reset_index(drop=True)\n",
    "    #df = df[:10_000]\n",
    "    df['__2'] = df.token.shift(-1)\n",
    "    df['__3'] = df.token.shift(-2)\n",
    "    df['__4'] = df.token.shift(-3)\n",
    "    df['__5'] = df.token.shift(-4)\n",
    "    d = df[[TOKEN, '__2', '__3', '__4', '__5']].progress_apply(ngrams, axis=1)\n",
    "    d = pd.DataFrame.from_records(d.tolist(), columns=['phrase', 'length'])\n",
    "    mask = ~d.phrase.isnull()\n",
    "    df = pd.concat([df, d], axis=1).drop(['__2', '__3', '__4', '__5'], axis=1)\n",
    "    df.loc[mask, TOKEN] = df.loc[mask, 'phrase']\n",
    "    df.loc[mask, POS] = 'NPHRASE'\n",
    "    lv = df.length.values\n",
    "    keep = np.ones_like(lv, dtype=bool)\n",
    "    length = len(keep)\n",
    "    for i, v in enumerate(lv):\n",
    "        if v > 0:\n",
    "            for j in range(i+1, min(i+v, length)):\n",
    "                if lv[j] == 0:\n",
    "                    keep[j] = False\n",
    "    df['keep'] = keep\n",
    "    df = df[df.keep].drop(['phrase', 'length', 'keep'], axis=1)\n",
    "    df.to_pickle(f+'_x')\n"
   ]
  },
  {
   "cell_type": "code",
   "execution_count": null,
   "metadata": {},
   "outputs": [],
   "source": [
    "print(df.dtypes)\n",
    "df"
   ]
  },
  {
   "cell_type": "markdown",
   "metadata": {},
   "source": [
    "#### - learning phrases from titles"
   ]
  },
  {
   "cell_type": "code",
   "execution_count": null,
   "metadata": {
    "scrolled": true
   },
   "outputs": [],
   "source": [
    "titles = []\n",
    "\n",
    "def unique(ser):\n",
    "    return ser.dropna().str.strip().unique()\n",
    "\n",
    "f = 'dewiki_links.pickle'\n",
    "dfl = pd.read_pickle(join(ETL_PATH, f))\n",
    "f = 'dewiki_categories.pickle'\n",
    "dfc = pd.read_pickle(join(ETL_PATH, f))\n",
    "\n",
    "print(1, end=', ')\n",
    "titles.append(unique(dfl.norm))\n",
    "# do NOT use dfl.category -> it contains a couple of weird phrases\n",
    "print(2, end=', ')\n",
    "titles.append(unique(dfc.category))\n",
    "del dfc, dfl\n",
    "gc.collect()\n",
    "gc.collect()\n",
    "\n",
    "pattern = re.compile(r'dewiki_\\d')\n",
    "files = sorted([f for f in listdir(ETL_PATH)\n",
    "                if (isfile(join(ETL_PATH, f)) and pattern.match(f))])\n",
    "\n",
    "for name in files[:]:\n",
    "    gc.collect()\n",
    "    gc.collect()\n",
    "    corpus = name.split('.')[0]\n",
    "    print(corpus, end=', ')\n",
    "    f = join(ETL_PATH, corpus + '.pickle')\n",
    "    titles.append(unique(pd.read_pickle(f)[TITLE]))\n",
    "\n",
    "print(titles)\n",
    "df = pd.DataFrame(np.unique(np.hstack(titles)), columns=['phrase'])\n",
    "del titles\n",
    "gc.collect()\n",
    "gc.collect()\n",
    "\n",
    "print(df.head())\n",
    "df['length'] = df.phrase.apply(lambda x: x.count(' ') + 1)\n",
    "df = df[(df.length > 1) & (df.length < 6)]\n",
    "r = re.compile(r'^[a-zA-Z0-9_äöüÄÖÜß]')\n",
    "df = df[df.phrase.str.match(r)]\n",
    "\n",
    "df = df['phrase']\n",
    "print('expand')\n",
    "df = df.str.split(' ', expand=True)\n",
    "print('write')\n",
    "df.to_pickle(join(ETL_PATH, 'dewiki_phrases.pickle'))\n",
    "df = df.progress_apply(lambda x: x.str.cat(sep='_'), axis=1)\n",
    "df.to_pickle(join(ETL_PATH, 'dewiki_phrases_joined.pickle'))"
   ]
  },
  {
   "cell_type": "markdown",
   "metadata": {},
   "source": [
    "### replace document hashes with updates (Wikipedia)"
   ]
  },
  {
   "cell_type": "code",
   "execution_count": null,
   "metadata": {
    "scrolled": true
   },
   "outputs": [],
   "source": [
    "pattern = re.compile(r'dewiki_\\d')\n",
    "files = sorted([f for f in listdir(ETL_PATH)\n",
    "                if (isfile(join(ETL_PATH, f)) and pattern.match(f))])\n",
    "\n",
    "mappings = []\n",
    "for name in files[:]:\n",
    "    gc.collect()\n",
    "    gc.collect()\n",
    "    corpus = name.split('.')[0]\n",
    "    print(corpus)\n",
    "    \n",
    "    f = join(NLP_PATH, corpus + '_nlp.pickle')\n",
    "    dfnlp = (\n",
    "        pd.read_pickle(f)\n",
    "        .groupby(HASH).head(1)[[HASH, TEXT]]\n",
    "        .reset_index()\n",
    "    )\n",
    "    f = join(ETL_PATH, corpus + '.pickle')\n",
    "    dfetl = (\n",
    "        pd.read_pickle(f)\n",
    "        .astype({\n",
    "            DATASET: \"category\",\n",
    "            SUBSET: \"category\", \n",
    "        })\n",
    "        .reset_index()\n",
    "        .join(dfnlp, rsuffix='_nlp')\n",
    "    )\n",
    "    dfjoin = dfetl[[HASH, TITLE, 'hash_nlp', 'text_nlp']].copy()\n",
    "    dfjoin['equal_start'] = dfjoin.apply(lambda x: x.title.startswith(x.text_nlp), axis=1)\n",
    "    #dfjoin['first_token'] = None\n",
    "    #dfjoin['first_token'] = dfjoin.title.str.split(expand=True)\n",
    "    #dfjoin['equal'] = (dfjoin.text_nlp == dfjoin.first_token)\n",
    "    assert dfjoin.equal_start.sum() == len(dfjoin)\n",
    "    dfetl = (\n",
    "        dfetl\n",
    "        .set_index('hash_nlp', drop=True)\n",
    "        .drop(['text_nlp', 'hash', 'index'], axis=1)\n",
    "    )\n",
    "    dfetl.to_pickle(f)\n",
    "    mappings.append(dfjoin[['hash', 'hash_nlp']])\n",
    "    \n",
    "dfmap = pd.concat(mappings)\n",
    "dfmap = dfmap.set_index(HASH)['hash_nlp']\n",
    "dfmap.to_pickle(join(ETL_PATH, 'dewiki_hashmap.pickle'))\n",
    "pd.read_pickle(join(ETL_PATH, 'dewiki_hashmap.pickle'))"
   ]
  },
  {
   "cell_type": "code",
   "execution_count": null,
   "metadata": {},
   "outputs": [],
   "source": [
    "def replace_docid(f):\n",
    "    print(f)\n",
    "    df = (\n",
    "        pd.read_pickle(join(ETL_PATH, f))\n",
    "        .join(dfmap, on='doc_id')\n",
    "        .drop('doc_id', axis=1)\n",
    "    )\n",
    "    df.to_pickle(join(ETL_PATH, f))\n",
    "\n",
    "replace_docid('dewiki_categories.pickle')\n",
    "replace_docid('dewiki_links.pickle')"
   ]
  },
  {
   "cell_type": "markdown",
   "metadata": {},
   "source": [
    "### Find bad encoded articles (Wikipedia)"
   ]
  },
  {
   "cell_type": "code",
   "execution_count": null,
   "metadata": {},
   "outputs": [],
   "source": [
    "pattern = re.compile(r'dewiki_\\d')\n",
    "files = sorted([f for f in listdir(ETL_PATH)\n",
    "                if (isfile(join(ETL_PATH, f)) and pattern.match(f))])"
   ]
  },
  {
   "cell_type": "code",
   "execution_count": null,
   "metadata": {
    "scrolled": true
   },
   "outputs": [],
   "source": [
    "# take samples from the corpus as training set\n",
    "samples = []\n",
    "for name in files[:]:\n",
    "    gc.collect()\n",
    "    gc.collect()\n",
    "    corpus = name.split('.')[0]\n",
    "    print(corpus, end=', ')\n",
    "    \n",
    "    f = join(ETL_PATH, corpus + '.pickle')\n",
    "    df = pd.read_pickle(f)\n",
    "    df = df.loc[df.subset == 'ARTICLE']\n",
    "    df[TEXT] = df.text.str.replace(pat=r'\\[\\]|\\]\\]', repl='')\n",
    "    sample_size = len(df) // 5_000\n",
    "    print(len(df), sample_size)\n",
    "    samples.append(df[[TITLE, TEXT]].sample(sample_size, random_state=1))\n",
    "\n",
    "samples = pd.concat(samples)"
   ]
  },
  {
   "cell_type": "code",
   "execution_count": null,
   "metadata": {
    "scrolled": true
   },
   "outputs": [],
   "source": [
    "# remove a few problematic documents from training set\n",
    "removable = [\n",
    "    841808810294450851,\n",
    "    -4692350076498843548,\n",
    "    -8049734301321653789,\n",
    "    -4131305296668036145,\n",
    "    -8810233646059586724,\n",
    "    2361495353241257464,\n",
    "    2496670190106332015,\n",
    "    7370294376993591077,\n",
    "    -7758054498192490695,\n",
    "    -4994773231110680494,\n",
    "    2192724857258762575,\n",
    "    1420892661644474111,\n",
    "]\n",
    "samples = samples[~samples.index.isin(removable)]\n",
    "trainset = df[TEXT].tolist()\n",
    "char_freq_train = defaultdict(int)\n",
    "train_len = 0\n",
    "FACTOR = 0.001\n",
    "for string in trainset:\n",
    "    train_len += len(string)\n",
    "    for char in string.lower():\n",
    "        char_freq_train[char] += 1\n",
    "for k in char_freq_train.keys():\n",
    "    char_freq_train[k] //= (train_len * FACTOR)\n",
    "print(char_freq_train)"
   ]
  },
  {
   "cell_type": "code",
   "execution_count": null,
   "metadata": {},
   "outputs": [],
   "source": [
    "# comparing with FOCUS score\n",
    "doc_freq = {'b': 17.0, 'e': 134.0, 'i': 64.0, 'm': 20.0, ' ': 137.0, 'h': 35.0, 'z': 10.0, 'ö': 2.0, 'l': 33.0, '-': 4.0, 'k': 13.0, 'a': 47.0, 'u': 31.0, 'f': 13.0, 's': 53.0, 't': 52.0, 'd': 39.0, 'r': 58.0, 'c': 24.0, 'g': 22.0, 'n': 81.0, 'o': 26.0, '.': 9.0, 'w': 10.0, 'ü': 5.0, 'v': 7.0, ':': 1.0, ',': 6.0, 'p': 11.0, 'ä': 4.0, '8': 0.0, '1': 1.0, '2': 1.0, '0': 1.0, 'j': 1.0, '–': 0.0, 'ß': 1.0, '9': 0.0, '\\n': 3.0, 'y': 1.0, '6': 0.0, '5': 0.0, '„': 0.0, '“': 0.0, '?': 0.0, '’': 0.0, '7': 0.0, 'x': 0.0, '(': 0.0, ')': 0.0, '*': 0.0, '3': 0.0, '4': 0.0, 'q': 0.0, '&': 0.0, ';': 0.0, '\"': 0.0, '!': 0.0, '@': 0.0, '/': 0.0, \"'\": 0.0, '+': 0.0, 'é': 0.0}\n",
    "\n",
    "distance = 0\n",
    "for k in doc_freq.keys():\n",
    "    distance += abs(doc_freq[k] - char_freq_train.get(k, 0))\n",
    "int(distance)"
   ]
  },
  {
   "cell_type": "code",
   "execution_count": null,
   "metadata": {},
   "outputs": [],
   "source": [
    "def encryption_score(string):\n",
    "    distance = 0\n",
    "    doc_freq = defaultdict(int)\n",
    "    doc_len = len(string)//2\n",
    "    if doc_len == 0:\n",
    "        return 1000\n",
    "    string = string[doc_len:]\n",
    "    for char in string.lower():\n",
    "        doc_freq[char] += 1\n",
    "    for k in doc_freq.keys():\n",
    "        doc_freq[k] //= (doc_len * FACTOR)\n",
    "        distance += abs(doc_freq[k] - char_freq_train.get(k, 0))\n",
    "    return int(distance)\n",
    "\n",
    "good_ids = []\n",
    "for name in files[:]:\n",
    "    gc.collect()\n",
    "    gc.collect()\n",
    "    corpus = name.split('.')[0]\n",
    "    print(corpus, end=', ')\n",
    "    \n",
    "    f = join(ETL_PATH, corpus + '.pickle')\n",
    "    df = pd.read_pickle(f)\n",
    "    df = df[df.subset == 'ARTICLE']\n",
    "    df = df[df.description != 'Begriffsklärung']\n",
    "    df[TEXT] = df.text.str.replace(pat=r'\\[\\]|\\]\\]', repl='')\n",
    "    df = df[~(df.text == '')]\n",
    "    df['enc_score'] = df[TEXT].apply(encryption_score)\n",
    "    # keep articles with distance < 400\n",
    "    good_ids.append(df.loc[df.enc_score < 400, TITLE])\n",
    "\n",
    "good_ids = pd.concat(good_ids)\n",
    "good_ids"
   ]
  },
  {
   "cell_type": "code",
   "execution_count": null,
   "metadata": {},
   "outputs": [],
   "source": [
    "good_ids.to_pickle(join(ETL_PATH, 'dewiki_good_ids.pickle'))"
   ]
  },
  {
   "cell_type": "code",
   "execution_count": null,
   "metadata": {
    "scrolled": true
   },
   "outputs": [],
   "source": [
    "df[[TEXT, 'enc_score']]"
   ]
  },
  {
   "cell_type": "code",
   "execution_count": null,
   "metadata": {},
   "outputs": [],
   "source": [
    "# evaluate results\n",
    "plt.scatter(df.index, df.enc_score)"
   ]
  },
  {
   "cell_type": "code",
   "execution_count": null,
   "metadata": {},
   "outputs": [],
   "source": [
    "plt.hist(df.enc_score, bins=20)\n",
    "# would be multimodal if not restircted to ARTICLEs"
   ]
  },
  {
   "cell_type": "code",
   "execution_count": null,
   "metadata": {},
   "outputs": [],
   "source": [
    "# 400 seems to be a valid limit. We don't loose too many good articles here (~6 %)\n",
    "#df[df.enc_score.between(400, 500)][TEXT].tolist()\n",
    "len(df[df.enc_score > 400]) / len(df)"
   ]
  },
  {
   "cell_type": "markdown",
   "metadata": {},
   "source": [
    "### collecting links from Wikipedia in a separate DataFrame"
   ]
  },
  {
   "cell_type": "code",
   "execution_count": null,
   "metadata": {
    "scrolled": true
   },
   "outputs": [],
   "source": [
    "# collecting links from Wikipedia in a separate DataFrame\n",
    "LINK_LIST = []\n",
    "TAGS_LIST = []\n",
    "\n",
    "def collect_links(df):\n",
    "    for doc_id, links in df[LINKS].iteritems():\n",
    "        for link in links:\n",
    "            LINK_LIST.append((doc_id, *link))\n",
    "\n",
    "def collect_tags(df):\n",
    "    for doc_id, categories in df[TAGS].iteritems():\n",
    "        for category in categories:\n",
    "            TAGS_LIST.append((doc_id, category))\n",
    "\n",
    "pattern = re.compile(r'^dewiki_\\d')\n",
    "files = sorted([f for f in listdir(FULL_PATH)\n",
    "                if isfile(join(FULL_PATH, f))\n",
    "                and pattern.match(f)\n",
    "               ])\n",
    "\n",
    "for name in files:\n",
    "    fname = join(ETL_PATH, name)\n",
    "    print(fname)\n",
    "    df = pd.read_pickle(fname)\n",
    "    collect_links(df)\n",
    "    collect_tags(df)\n",
    "\n",
    "del df\n",
    "df_links = pd.DataFrame.from_records(LINK_LIST, columns=['doc_id', 'link', 'norm', 'category'])\n",
    "del LINK_LIST\n",
    "df_tags = pd.DataFrame.from_records(TAGS_LIST, columns=['doc_id', 'category'])\n",
    "del TAGS_LIST\n",
    "df_links.to_pickle(join(ETL_PATH, 'dewiki_links.pickle'))\n",
    "df_tags.to_pickle(join(ETL_PATH, 'dewiki_categories.pickle'))"
   ]
  },
  {
   "cell_type": "markdown",
   "metadata": {},
   "source": [
    "### splitting the largest files from the wikipedia corpus to parallelize the nlp pipeline"
   ]
  },
  {
   "cell_type": "code",
   "execution_count": null,
   "metadata": {},
   "outputs": [],
   "source": [
    "# splitting the largest files from the wikipedia corpus to parallelize the nlp pipeline\n",
    "fname = 'dewiki_01.pickle'\n",
    "fpath = join(ETL_PATH, fname)\n",
    "df = pd.read_pickle(fpath)\n",
    "split = 25*1000\n",
    "#split *= 2\n",
    "dfs = [df[:1*split], \n",
    "       #df[1*split:], \n",
    "       df[1*split:2*split], \n",
    "       df[2*split:3*split], \n",
    "       df[3*split:]\n",
    "      ]\n",
    "length = sum([len(d) for d in dfs])\n",
    "assert len(df) == length\n",
    "df.shape, [d.shape for d in dfs]\n",
    "fsplit = fpath.rsplit('.', 1)\n",
    "for i, d in enumerate(dfs):\n",
    "    f = \"{}_{:d}.{}\".format(fsplit[0], i, fsplit[1])\n",
    "    print(f)\n",
    "    d.to_pickle(f)"
   ]
  },
  {
   "cell_type": "markdown",
   "metadata": {},
   "source": [
    "-------\n",
    "\n",
    "## preprocess Dewac\n",
    "\n",
    "(unlike to the earlier cells, the following code assumes that the data is placed in 'preprocessed/tmp/')"
   ]
  },
  {
   "cell_type": "code",
   "execution_count": 2,
   "metadata": {},
   "outputs": [],
   "source": [
    "pattern = re.compile(r'dewac_\\d')\n",
    "files = sorted([f for f in listdir(TMP_PATH)\n",
    "                if (isfile(join(TMP_PATH, f)) and pattern.match(f))])"
   ]
  },
  {
   "cell_type": "code",
   "execution_count": null,
   "metadata": {
    "scrolled": true
   },
   "outputs": [],
   "source": [
    "# take samples from the corpus as training set\n",
    "samples = []\n",
    "for name in files[:]:\n",
    "    gc.collect()\n",
    "    gc.collect()\n",
    "    corpus = name.split('.')[0]\n",
    "    print(corpus, end=', ')\n",
    "    \n",
    "    f = join(TMP_PATH, corpus + '.pickle')\n",
    "    df = pd.read_pickle(f)\n",
    "    #df = df.loc[df.subset == 'ARTICLE']\n",
    "    #df[TEXT] = df.text.str.replace(pat=r'\\[\\]|\\]\\]', repl='')\n",
    "    sample_size = len(df) // 5_000\n",
    "    print(len(df), sample_size)\n",
    "    samples.append(df[[TITLE, TEXT]].sample(sample_size, random_state=1))\n",
    "\n",
    "samples = pd.concat(samples)"
   ]
  },
  {
   "cell_type": "code",
   "execution_count": null,
   "metadata": {},
   "outputs": [],
   "source": [
    "samples[TEXT]"
   ]
  },
  {
   "cell_type": "code",
   "execution_count": 7,
   "metadata": {
    "scrolled": true
   },
   "outputs": [
    {
     "name": "stdout",
     "output_type": "stream",
     "text": [
      "defaultdict(<class 'int'>, {'1': 2.0, '7': 0.0, '.': 9.0, '0': 2.0, '5': 0.0, '2': 1.0, '4': 0.0, ',': 8.0, ' ': 138.0, ':': 1.0, 'l': 30.0, 'a': 45.0, 'n': 82.0, 'd': 39.0, 'b': 17.0, 'e': 131.0, 'r': 60.0, 'i': 65.0, 't': 51.0, 'u': 33.0, 'h': 35.0, 'm': 21.0, 'f': 14.0, 's': 52.0, 'o': 21.0, 'v': 7.0, '/': 0.0, 'x': 0.0, 'ß': 1.0, 'w': 11.0, 'z': 10.0, 'k': 11.0, 'p': 7.0, 'ü': 5.0, 'g': 25.0, 'ä': 4.0, 'c': 23.0, '&': 0.0, 'q': 0.0, ';': 0.0, 'j': 1.0, '(': 1.0, ')': 1.0, '-': 2.0, '8': 0.0, '9': 1.0, 'y': 0.0, '6': 0.0, '3': 0.0, 'ö': 2.0, '\"': 1.0, '=': 0.0, '\\x96': 0.0, '\\x84': 0.0, '\\x93': 0.0, '?': 0.0, '+': 0.0, '*': 0.0, '#': 0.0, '©': 0.0, '!': 0.0, '@': 0.0, '[': 0.0, ']': 0.0, '<': 0.0, '_': 0.0, '´': 0.0, '|': 0.0, '»': 0.0, '«': 0.0, \"'\": 0.0, '`': 0.0, 'é': 0.0, '>': 0.0, '%': 0.0, '^': 0.0, '°': 0.0, '\\x85': 0.0, '§': 0.0, '·': 0.0, '\\xad': 0.0, 'à': 0.0, '\\x9b': 0.0, '\\x8b': 0.0, 'â': 0.0, '\\x82': 0.0, '¬': 0.0, 'è': 0.0, 'î': 0.0, '\\x80': 0.0, 'ó': 0.0, '\\x94': 0.0, '\\t': 0.0, '\\x99': 0.0, '\\x98': 0.0, '\\x9e': 0.0, '\\x9c': 0.0, 'á': 0.0, '®': 0.0, 'ÿ': 0.0, 'ñ': 0.0, '~': 0.0, 'ú': 0.0, '\\x91': 0.0, '\\\\': 0.0, '½': 0.0, 'ç': 0.0, 'ë': 0.0, 'ø': 0.0, '\\xa0': 0.0, 'ï': 0.0, '¿': 0.0, 'í': 0.0, '×': 0.0, '\\x95': 0.0, 'ì': 0.0, 'ý': 0.0, '}': 0.0, 'ê': 0.0, '\\x97': 0.0, '\\x92': 0.0, '$': 0.0, 'ô': 0.0, '¦': 0.0, 'µ': 0.0, '¾': 0.0, 'ò': 0.0, '¹': 0.0, '\\x8c': 0.0, '¯': 0.0, '¸': 0.0, '\\x87': 0.0, '\\x86': 0.0, '²': 0.0, 'å': 0.0, 'ã': 0.0, '³': 0.0, 'õ': 0.0, '¼': 0.0, '¨': 0.0, 'û': 0.0, '{': 0.0, '\\x9a': 0.0, '\\x89': 0.0, '\\x8a': 0.0, '\\x9f': 0.0, '\\x81': 0.0, '¢': 0.0, '\\x9d': 0.0, 'º': 0.0, 'þ': 0.0, '¤': 0.0, '\\x7f': 0.0, '±': 0.0, 'ù': 0.0, 'æ': 0.0, '¶': 0.0, '¡': 0.0, '£': 0.0, '\\x1f': 0.0, '÷': 0.0, 'ð': 0.0, '\\x8e': 0.0, 'ª': 0.0, '\\x88': 0.0, '\\x90': 0.0, '\\x8d': 0.0, '\\n': 0.0, '\\x8f': 0.0, '\\x83': 0.0, '¥': 0.0})\n"
     ]
    }
   ],
   "source": [
    "trainset = df[TEXT].tolist()\n",
    "char_freq_train = defaultdict(int)\n",
    "train_len = 0\n",
    "FACTOR = 0.001\n",
    "for string in trainset:\n",
    "    train_len += len(string)\n",
    "    for char in string.lower():\n",
    "        char_freq_train[char] += 1\n",
    "for k in char_freq_train.keys():\n",
    "    char_freq_train[k] //= (train_len * FACTOR)\n",
    "print(char_freq_train)"
   ]
  },
  {
   "cell_type": "code",
   "execution_count": 8,
   "metadata": {},
   "outputs": [
    {
     "data": {
      "text/plain": [
       "49"
      ]
     },
     "execution_count": 8,
     "metadata": {},
     "output_type": "execute_result"
    }
   ],
   "source": [
    "# comparing with FOCUS score\n",
    "doc_freq = {'b': 17.0, 'e': 134.0, 'i': 64.0, 'm': 20.0, ' ': 137.0, 'h': 35.0, 'z': 10.0, 'ö': 2.0, 'l': 33.0, '-': 4.0, 'k': 13.0, 'a': 47.0, 'u': 31.0, 'f': 13.0, 's': 53.0, 't': 52.0, 'd': 39.0, 'r': 58.0, 'c': 24.0, 'g': 22.0, 'n': 81.0, 'o': 26.0, '.': 9.0, 'w': 10.0, 'ü': 5.0, 'v': 7.0, ':': 1.0, ',': 6.0, 'p': 11.0, 'ä': 4.0, '8': 0.0, '1': 1.0, '2': 1.0, '0': 1.0, 'j': 1.0, '–': 0.0, 'ß': 1.0, '9': 0.0, '\\n': 3.0, 'y': 1.0, '6': 0.0, '5': 0.0, '„': 0.0, '“': 0.0, '?': 0.0, '’': 0.0, '7': 0.0, 'x': 0.0, '(': 0.0, ')': 0.0, '*': 0.0, '3': 0.0, '4': 0.0, 'q': 0.0, '&': 0.0, ';': 0.0, '\"': 0.0, '!': 0.0, '@': 0.0, '/': 0.0, \"'\": 0.0, '+': 0.0, 'é': 0.0}\n",
    "\n",
    "distance = 0\n",
    "for k in doc_freq.keys():\n",
    "    distance += abs(doc_freq[k] - char_freq_train.get(k, 0))\n",
    "int(distance)"
   ]
  },
  {
   "cell_type": "code",
   "execution_count": null,
   "metadata": {},
   "outputs": [],
   "source": [
    "def encryption_score(string):\n",
    "    distance = 0\n",
    "    doc_freq = defaultdict(int)\n",
    "    doc_len = len(string)//2\n",
    "    if doc_len == 0:\n",
    "        return 1000\n",
    "    string = string[doc_len:]\n",
    "    for char in string.lower():\n",
    "        doc_freq[char] += 1\n",
    "    for k in doc_freq.keys():\n",
    "        doc_freq[k] //= (doc_len * FACTOR)\n",
    "        distance += abs(doc_freq[k] - char_freq_train.get(k, 0))\n",
    "    return int(distance)\n",
    "\n",
    "good_ids = []\n",
    "bad = []\n",
    "for name in files[:]:\n",
    "    gc.collect()\n",
    "    gc.collect()\n",
    "    corpus = name.split('.')[0]\n",
    "    print(corpus, end=', ')\n",
    "    \n",
    "    f = join(TMP_PATH, corpus + '.pickle')\n",
    "    df = pd.read_pickle(f)\n",
    "    #df = df.loc[df.subset == 'ARTICLE']\n",
    "    #df[TEXT] = df.text.str.replace(pat=r'\\[\\]|\\]\\]', repl='')\n",
    "    df['enc_score'] = df[TEXT].apply(encryption_score)\n",
    "    # keep articles with distance < 400\n",
    "    good_ids.append(df.loc[df.enc_score < 400, TITLE])\n",
    "    bad.append(df[df.enc_score >= 400])\n"
   ]
  },
  {
   "cell_type": "code",
   "execution_count": 20,
   "metadata": {},
   "outputs": [
    {
     "data": {
      "text/plain": [
       "0.002495617542615866"
      ]
     },
     "execution_count": 20,
     "metadata": {},
     "output_type": "execute_result"
    }
   ],
   "source": [
    "bad = pd.concat(bad)\n",
    "good_ids = pd.concat(good_ids)\n",
    "good_ids.to_pickle(join(TMP_PATH, 'dewac_good_ids.pickle'))\n",
    "len(bad) / (len(good_ids)+len(bad))"
   ]
  },
  {
   "cell_type": "code",
   "execution_count": null,
   "metadata": {
    "scrolled": true
   },
   "outputs": [],
   "source": [
    "bad[TEXT].tolist()"
   ]
  },
  {
   "cell_type": "code",
   "execution_count": 11,
   "metadata": {},
   "outputs": [
    {
     "data": {
      "text/plain": [
       "<matplotlib.collections.PathCollection at 0x7f549172f9e8>"
      ]
     },
     "execution_count": 11,
     "metadata": {},
     "output_type": "execute_result"
    },
    {
     "data": {
      "image/png": "[encoded data removed]",
      "text/plain": [
       "<Figure size 432x288 with 1 Axes>"
      ]
     },
     "metadata": {},
     "output_type": "display_data"
    }
   ],
   "source": [
    "# evaluate results\n",
    "plt.scatter(df.index, df.enc_score)"
   ]
  },
  {
   "cell_type": "code",
   "execution_count": 12,
   "metadata": {
    "scrolled": true
   },
   "outputs": [
    {
     "data": {
      "text/plain": [
       "(array([1.1291e+04, 2.6785e+04, 8.8010e+03, 1.3570e+03, 2.2700e+02,\n",
       "        6.5000e+01, 2.3000e+01, 7.0000e+00, 1.0000e+00, 2.0000e+00,\n",
       "        0.0000e+00, 0.0000e+00, 0.0000e+00, 0.0000e+00, 0.0000e+00,\n",
       "        0.0000e+00, 0.0000e+00, 0.0000e+00, 0.0000e+00, 1.0000e+00]),\n",
       " array([  39. ,  117.3,  195.6,  273.9,  352.2,  430.5,  508.8,  587.1,\n",
       "         665.4,  743.7,  822. ,  900.3,  978.6, 1056.9, 1135.2, 1213.5,\n",
       "        1291.8, 1370.1, 1448.4, 1526.7, 1605. ]),\n",
       " <a list of 20 Patch objects>)"
      ]
     },
     "execution_count": 12,
     "metadata": {},
     "output_type": "execute_result"
    },
    {
     "data": {
      "image/png": "[encoded data removed]",
      "text/plain": [
       "<Figure size 432x288 with 1 Axes>"
      ]
     },
     "metadata": {},
     "output_type": "display_data"
    }
   ],
   "source": [
    "plt.hist(df.enc_score, bins=20)"
   ]
  }
 ],
 "metadata": {
  "kernelspec": {
   "display_name": "Python 3",
   "language": "python",
   "name": "python3"
  },
  "language_info": {
   "codemirror_mode": {
    "name": "ipython",
    "version": 3
   },
   "file_extension": ".py",
   "mimetype": "text/x-python",
   "name": "python",
   "nbconvert_exporter": "python",
   "pygments_lexer": "ipython3",
   "version": "3.6.5"
  }
 },
 "nbformat": 4,
 "nbformat_minor": 1
}
