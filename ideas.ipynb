{
 "cells": [
  {
   "cell_type": "markdown",
   "metadata": {},
   "source": [
    "### Named Entity Recognition\n",
    "Not shure if I want to use these"
   ]
  },
  {
   "cell_type": "code",
   "execution_count": null,
   "metadata": {},
   "outputs": [],
   "source": [
    "ents = []\n",
    "\n",
    "for ent in doc.ents:\n",
    "    ents.append((ent.text, ent.start_char, ent.end_char, ent.label_))\n",
    "    \n",
    "df_ent = pd.DataFrame(ents)\n",
    "df_ent = df_ent.rename(columns=\n",
    "                       {0: \"Text\", 1: \"Start\", 2: \"End\", 3: \"Label\", \n",
    "                        4: \"Description\"})\n",
    "\n",
    "tprint(df_ent, 10)"
   ]
  },
  {
   "cell_type": "code",
   "execution_count": null,
   "metadata": {},
   "outputs": [],
   "source": [
    "from spacy_lookup import Entity\n",
    "\n",
    "#nlp = spacy.load('en')\n",
    "entity = Entity(nlp, keywords_list=['python', 'java platform'])\n",
    "nlp.add_pipe(entity, last=True)\n",
    "\n",
    "doc = nlp(u\"I am a product manager for a java and python.\")\n",
    "assert doc._.has_entities == True\n",
    "assert doc[2:5]._.has_entities == True\n",
    "assert doc[0]._.is_entity == False\n",
    "assert doc[3]._.is_entity == True\n",
    "print(doc._.entities)"
   ]
  },
  {
   "cell_type": "code",
   "execution_count": null,
   "metadata": {},
   "outputs": [],
   "source": [
    "# spellchecking\n",
    "# may be used to correct case errors -> very limited usage\n",
    "\n",
    "spellchecker = hunspell.HunSpell('/usr/share/hunspell/de_DE.dic', \n",
    "                                 '/usr/share/hunspell/de_DE.aff')\n",
    "enc = spellchecker.get_dic_encoding()  # 'ISO8859-1' might be an issue\n",
    "\n",
    "df_noun = df_doc[df_doc.POS == 'NOUN'].copy()\n",
    "df_noun['Spell'] = \\\n",
    "    df_noun['Text'].map(lambda noun: spellchecker.spell(noun))\n",
    "df_noun['Suggest'] = \\\n",
    "    df_noun['Text'].map(lambda noun: spellchecker.suggest(noun))\n",
    "\n",
    "tprint(df_noun[['Text', 'Spell', 'Suggest']])\n",
    "\n",
    "## Alternative:\n",
    "from spacy_hunspell import spaCyHunSpell\n",
    "\n",
    "nlp = spacy.load('en_core_web_sm')\n",
    "hunspell = spaCyHunSpell(nlp, 'mac')\n",
    "nlp.add_pipe(hunspell)\n",
    "doc = nlp('I can haz cheezeburger.')\n",
    "haz = doc[2]\n",
    "haz._.hunspell_spell  # False\n",
    "haz._.hunspell_suggest"
   ]
  }
 ],
 "metadata": {
  "kernelspec": {
   "display_name": "Python 3",
   "language": "python",
   "name": "python3"
  },
  "language_info": {
   "codemirror_mode": {
    "name": "ipython",
    "version": 3
   },
   "file_extension": ".py",
   "mimetype": "text/x-python",
   "name": "python",
   "nbconvert_exporter": "python",
   "pygments_lexer": "ipython3",
   "version": "3.6.5"
  }
 },
 "nbformat": 4,
 "nbformat_minor": 1
}
