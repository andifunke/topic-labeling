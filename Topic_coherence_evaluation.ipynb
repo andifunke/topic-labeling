{
 "cells": [
  {
   "cell_type": "code",
   "execution_count": 1,
   "metadata": {},
   "outputs": [
    {
     "name": "stdout",
     "output_type": "stream",
     "text": [
      "Populating the interactive namespace from numpy and matplotlib\n"
     ]
    }
   ],
   "source": [
    "%pylab inline\n",
    "pylab.rcParams['figure.figsize'] = (20, 10)\n",
    "from topic_coherence_experiments import *\n",
    "import seaborn as sns\n",
    "sns.set()"
   ]
  },
  {
   "cell_type": "code",
   "execution_count": 2,
   "metadata": {},
   "outputs": [],
   "source": [
    "topn = 20\n",
    "metrics = ['u_mass', 'c_v', 'c_uci', 'c_npmi', 'vote']\n",
    "save=True\n",
    "param_ids = ['a42', 'b42', 'c42', 'd42', 'e42']\n",
    "nbs_topics = [10, 25, 50, 100]\n",
    "param_ids=param_ids[:]\n",
    "nbs_topics=nbs_topics[:]"
   ]
  },
  {
   "cell_type": "code",
   "execution_count": null,
   "metadata": {},
   "outputs": [
    {
     "name": "stdout",
     "output_type": "stream",
     "text": [
      "loading dictionary from ../data/preprocessed/LDAmodel/OnlineParticipation_fullset_nouns_bow.dict\n",
      "loading corpus from ../data/preprocessed/LDAmodel/OnlineParticipation_fullset_nouns_bow.mm\n",
      "loading texts from ../data/preprocessed/LDAmodel/OnlineParticipation_fullset_nouns_texts.json\n",
      "Loading model from ../data/preprocessed/LDAmodel/a42/OnlineParticipation_LDAmodel_a42_10\n",
      "Loading model from ../data/preprocessed/LDAmodel/a42/OnlineParticipation_LDAmodel_a42_25\n",
      "Loading model from ../data/preprocessed/LDAmodel/a42/OnlineParticipation_LDAmodel_a42_50\n",
      "Loading model from ../data/preprocessed/LDAmodel/a42/OnlineParticipation_LDAmodel_a42_100\n",
      "Loading model from ../data/preprocessed/LDAmodel/b42/OnlineParticipation_LDAmodel_b42_10\n",
      "Loading model from ../data/preprocessed/LDAmodel/b42/OnlineParticipation_LDAmodel_b42_25\n",
      "Loading model from ../data/preprocessed/LDAmodel/b42/OnlineParticipation_LDAmodel_b42_50\n",
      "Loading model from ../data/preprocessed/LDAmodel/b42/OnlineParticipation_LDAmodel_b42_100\n",
      "Loading model from ../data/preprocessed/LDAmodel/c42/OnlineParticipation_LDAmodel_c42_10\n",
      "Loading model from ../data/preprocessed/LDAmodel/c42/OnlineParticipation_LDAmodel_c42_25\n",
      "Loading model from ../data/preprocessed/LDAmodel/c42/OnlineParticipation_LDAmodel_c42_50\n",
      "Loading model from ../data/preprocessed/LDAmodel/c42/OnlineParticipation_LDAmodel_c42_100\n",
      "Loading model from ../data/preprocessed/LDAmodel/d42/OnlineParticipation_LDAmodel_d42_10\n",
      "Loading model from ../data/preprocessed/LDAmodel/d42/OnlineParticipation_LDAmodel_d42_25\n",
      "Loading model from ../data/preprocessed/LDAmodel/d42/OnlineParticipation_LDAmodel_d42_50\n",
      "Loading model from ../data/preprocessed/LDAmodel/d42/OnlineParticipation_LDAmodel_d42_100\n",
      "Loading model from ../data/preprocessed/LDAmodel/e42/OnlineParticipation_LDAmodel_e42_10\n",
      "Loading model from ../data/preprocessed/LDAmodel/e42/OnlineParticipation_LDAmodel_e42_25\n",
      "Loading model from ../data/preprocessed/LDAmodel/e42/OnlineParticipation_LDAmodel_e42_50\n",
      "Loading model from ../data/preprocessed/LDAmodel/e42/OnlineParticipation_LDAmodel_e42_100\n",
      "Creating reranked top candidates for metrics ['u_mass', 'c_v', 'c_uci', 'c_npmi', 'vote'], using fast method\n",
      "Calculating topic candidates using u_mass coherence measure on 20 candidate terms for 925 topics\n",
      "    avg out of place score compared to original topic term rankings: 43.2\n",
      "    done in 00:00:39\n",
      "Calculating topic candidates using c_v coherence measure on 20 candidate terms for 925 topics\n",
      "    avg out of place score compared to original topic term rankings: 45.9\n",
      "    done in 00:13:48\n",
      "Calculating topic candidates using c_uci coherence measure on 20 candidate terms for 925 topics\n",
      "    avg out of place score compared to original topic term rankings: 33.7\n",
      "    done in 00:06:31\n",
      "Calculating topic candidates using c_npmi coherence measure on 20 candidate terms for 925 topics\n"
     ]
    }
   ],
   "source": [
    "reranker = rerank(datasets['O'])\n",
    "reranker.topic_candidates"
   ]
  },
  {
   "cell_type": "code",
   "execution_count": null,
   "metadata": {},
   "outputs": [],
   "source": [
    "reranker = rerank(datasets['E'])\n",
    "reranker.topic_candidates"
   ]
  },
  {
   "cell_type": "code",
   "execution_count": null,
   "metadata": {},
   "outputs": [],
   "source": [
    "reranker = rerank(datasets['FA'])\n",
    "reranker.topic_candidates"
   ]
  },
  {
   "cell_type": "code",
   "execution_count": null,
   "metadata": {},
   "outputs": [],
   "source": [
    "reranker = rerank(datasets['FO'])\n",
    "reranker.topic_candidates"
   ]
  },
  {
   "cell_type": "code",
   "execution_count": null,
   "metadata": {},
   "outputs": [],
   "source": [
    "reranker = rerank(datasets['P'])\n",
    "reranker.topic_candidates"
   ]
  },
  {
   "cell_type": "code",
   "execution_count": null,
   "metadata": {},
   "outputs": [],
   "source": [
    "reranker = rerank(datasets['dewa'])\n",
    "reranker.topic_candidates"
   ]
  }
 ],
 "metadata": {
  "kernelspec": {
   "display_name": "Python 3",
   "language": "python",
   "name": "python3"
  },
  "language_info": {
   "codemirror_mode": {
    "name": "ipython",
    "version": 3
   },
   "file_extension": ".py",
   "mimetype": "text/x-python",
   "name": "python",
   "nbconvert_exporter": "python",
   "pygments_lexer": "ipython3",
   "version": "3.6.5"
  }
 },
 "nbformat": 4,
 "nbformat_minor": 2
}
