{
 "cells": [
  {
   "cell_type": "code",
   "execution_count": 1,
   "metadata": {},
   "outputs": [],
   "source": [
    "from os.path import join\n",
    "\n",
    "import numpy as np\n",
    "import pandas as pd\n",
    "from pygermanet import load_germanet, Synset\n",
    "from tqdm._tqdm_notebook import tqdm_notebook\n",
    "\n",
    "from constants import LDA_PATH\n",
    "from utils import load\n",
    "\n",
    "np.set_printoptions(precision=3)\n",
    "gn = load_germanet()\n",
    "tqdm_notebook.pandas()"
   ]
  },
  {
   "cell_type": "code",
   "execution_count": 2,
   "metadata": {},
   "outputs": [],
   "source": [
    "def orth(synset):\n",
    "    return synset.lemmas[0].orthForm\n",
    "\n",
    "def compare_synset_lists(synset_list1, synset_list2, sim_func, agg_func):\n",
    "    try:\n",
    "        return agg_func(sim_func(ss1, ss2) for ss1 in synset_list1 for ss2 in synset_list2)\n",
    "    except ValueError:\n",
    "        return np.nan\n",
    "\n",
    "def similarities(topic, ignore_unknown=True, sim_func=Synset.sim_lch, agg_func=max, topn=10):\n",
    "    arr = np.zeros((topn, topn))\n",
    "    for j, ssl1 in enumerate(topic.values):\n",
    "        for k, ssl2 in enumerate(topic.values[j+1:], j+1):\n",
    "            arr[j, k] = compare_synset_lists(ssl1, ssl2, sim_func, agg_func)\n",
    "    arr = np.add(arr, arr.T)\n",
    "    if ignore_unknown:\n",
    "        arr[arr == 0] = np.nan\n",
    "    return np.nanmean(arr)"
   ]
  },
  {
   "cell_type": "code",
   "execution_count": 4,
   "metadata": {
    "scrolled": false
   },
   "outputs": [
    {
     "name": "stdout",
     "output_type": "stream",
     "text": [
      "Reading ../data/preprocessed/LDAmodel/noun/bow/topics/OnlineParticipation_topic-candidates.csv\n",
      "File b'../data/preprocessed/LDAmodel/noun/bow/topics/OnlineParticipation_topic-candidates.csv' does not exist\n",
      "Loading topics via TopicsLoader\n",
      "Loading dictionary from ../data/preprocessed/LDAmodel/noun/bow/OnlineParticipation_noun_bow.dict\n",
      "Loading model from ../data/preprocessed/LDAmodel/noun/bow/e42/OnlineParticipation_LDAmodel_e42_10_ep30\n"
     ]
    },
    {
     "data": {
      "application/vnd.jupyter.widget-view+json": {
       "model_id": "4c88abd5fcfe4cac8e58d143c8561aa7",
       "version_major": 2,
       "version_minor": 0
      },
      "text/plain": [
       "HBox(children=(IntProgress(value=0, max=10), HTML(value='')))"
      ]
     },
     "metadata": {},
     "output_type": "display_data"
    },
    {
     "name": "stdout",
     "output_type": "stream",
     "text": [
      "\n"
     ]
    },
    {
     "data": {
      "application/vnd.jupyter.widget-view+json": {
       "model_id": "6a86885801c94cf4a053927a6bb5ac7c",
       "version_major": 2,
       "version_minor": 0
      },
      "text/plain": [
       "HBox(children=(IntProgress(value=0, max=10), HTML(value='')))"
      ]
     },
     "metadata": {},
     "output_type": "display_data"
    },
    {
     "name": "stdout",
     "output_type": "stream",
     "text": [
      "\n"
     ]
    },
    {
     "data": {
      "application/vnd.jupyter.widget-view+json": {
       "model_id": "b85abec692484597a26cd21c4f8fb727",
       "version_major": 2,
       "version_minor": 0
      },
      "text/plain": [
       "HBox(children=(IntProgress(value=0, max=10), HTML(value='')))"
      ]
     },
     "metadata": {},
     "output_type": "display_data"
    },
    {
     "name": "stdout",
     "output_type": "stream",
     "text": [
      "\n"
     ]
    },
    {
     "data": {
      "application/vnd.jupyter.widget-view+json": {
       "model_id": "7d84025a2a024773be5b6b55d7de4174",
       "version_major": 2,
       "version_minor": 0
      },
      "text/plain": [
       "HBox(children=(IntProgress(value=0, max=10), HTML(value='')))"
      ]
     },
     "metadata": {},
     "output_type": "display_data"
    },
    {
     "name": "stdout",
     "output_type": "stream",
     "text": [
      "\n"
     ]
    },
    {
     "data": {
      "application/vnd.jupyter.widget-view+json": {
       "model_id": "dfc701821a5041269c95380736c5e00d",
       "version_major": 2,
       "version_minor": 0
      },
      "text/plain": [
       "HBox(children=(IntProgress(value=0, max=10), HTML(value='')))"
      ]
     },
     "metadata": {},
     "output_type": "display_data"
    },
    {
     "name": "stdout",
     "output_type": "stream",
     "text": [
      "\n"
     ]
    },
    {
     "data": {
      "application/vnd.jupyter.widget-view+json": {
       "model_id": "4d652329aeb244e597676e2ae2d0e6ec",
       "version_major": 2,
       "version_minor": 0
      },
      "text/plain": [
       "HBox(children=(IntProgress(value=0, max=10), HTML(value='')))"
      ]
     },
     "metadata": {},
     "output_type": "display_data"
    },
    {
     "name": "stdout",
     "output_type": "stream",
     "text": [
      "\n"
     ]
    },
    {
     "data": {
      "application/vnd.jupyter.widget-view+json": {
       "model_id": "ad4257e50be044af8a331cf699956196",
       "version_major": 2,
       "version_minor": 0
      },
      "text/plain": [
       "HBox(children=(IntProgress(value=0, max=10), HTML(value='')))"
      ]
     },
     "metadata": {},
     "output_type": "display_data"
    },
    {
     "name": "stdout",
     "output_type": "stream",
     "text": [
      "\n"
     ]
    },
    {
     "data": {
      "application/vnd.jupyter.widget-view+json": {
       "model_id": "9fe8e4f8b5d34d4b96152be703ff7fa7",
       "version_major": 2,
       "version_minor": 0
      },
      "text/plain": [
       "HBox(children=(IntProgress(value=0, max=10), HTML(value='')))"
      ]
     },
     "metadata": {},
     "output_type": "display_data"
    },
    {
     "name": "stdout",
     "output_type": "stream",
     "text": [
      "\n",
      "Writing ../data/preprocessed/LDAmodel/noun/bow/topics/O_noun_bow_topic-scores_germanet.csv\n"
     ]
    },
    {
     "data": {
      "text/html": [
       "<div>\n",
       "<style scoped>\n",
       "    .dataframe tbody tr th:only-of-type {\n",
       "        vertical-align: middle;\n",
       "    }\n",
       "\n",
       "    .dataframe tbody tr th {\n",
       "        vertical-align: top;\n",
       "    }\n",
       "\n",
       "    .dataframe thead th {\n",
       "        text-align: right;\n",
       "    }\n",
       "</style>\n",
       "<table border=\"1\" class=\"dataframe\">\n",
       "  <thead>\n",
       "    <tr style=\"text-align: right;\">\n",
       "      <th></th>\n",
       "      <th></th>\n",
       "      <th></th>\n",
       "      <th></th>\n",
       "      <th>lch</th>\n",
       "      <th>lch_ignr_unkwn</th>\n",
       "      <th>res</th>\n",
       "      <th>res_ignr_unkwn</th>\n",
       "      <th>jcn</th>\n",
       "      <th>jcn_ignr_unkwn</th>\n",
       "      <th>lin</th>\n",
       "      <th>lin_ignr_unkwn</th>\n",
       "    </tr>\n",
       "    <tr>\n",
       "      <th>dataset</th>\n",
       "      <th>param_id</th>\n",
       "      <th>nb_topics</th>\n",
       "      <th>topic_idx</th>\n",
       "      <th></th>\n",
       "      <th></th>\n",
       "      <th></th>\n",
       "      <th></th>\n",
       "      <th></th>\n",
       "      <th></th>\n",
       "      <th></th>\n",
       "      <th></th>\n",
       "    </tr>\n",
       "  </thead>\n",
       "  <tbody>\n",
       "    <tr>\n",
       "      <th rowspan=\"10\" valign=\"top\">OnlineParticipation</th>\n",
       "      <th rowspan=\"10\" valign=\"top\">e42</th>\n",
       "      <th rowspan=\"10\" valign=\"top\">10</th>\n",
       "      <th>0</th>\n",
       "      <td>1.353920</td>\n",
       "      <td>1.188808</td>\n",
       "      <td>1.341991</td>\n",
       "      <td>1.178334</td>\n",
       "      <td>11.520278</td>\n",
       "      <td>10.115366</td>\n",
       "      <td>0.200826</td>\n",
       "      <td>0.176335</td>\n",
       "    </tr>\n",
       "    <tr>\n",
       "      <th>1</th>\n",
       "      <td>1.454871</td>\n",
       "      <td>1.309384</td>\n",
       "      <td>2.810047</td>\n",
       "      <td>2.529042</td>\n",
       "      <td>11.530984</td>\n",
       "      <td>10.377885</td>\n",
       "      <td>0.331000</td>\n",
       "      <td>0.297900</td>\n",
       "    </tr>\n",
       "    <tr>\n",
       "      <th>2</th>\n",
       "      <td>1.623207</td>\n",
       "      <td>1.425255</td>\n",
       "      <td>1.766787</td>\n",
       "      <td>1.551325</td>\n",
       "      <td>12.962648</td>\n",
       "      <td>11.381838</td>\n",
       "      <td>0.224263</td>\n",
       "      <td>0.196914</td>\n",
       "    </tr>\n",
       "    <tr>\n",
       "      <th>3</th>\n",
       "      <td>1.315414</td>\n",
       "      <td>1.183873</td>\n",
       "      <td>3.044576</td>\n",
       "      <td>2.740118</td>\n",
       "      <td>13.126385</td>\n",
       "      <td>11.813746</td>\n",
       "      <td>0.315573</td>\n",
       "      <td>0.284015</td>\n",
       "    </tr>\n",
       "    <tr>\n",
       "      <th>4</th>\n",
       "      <td>1.305999</td>\n",
       "      <td>1.146730</td>\n",
       "      <td>1.618440</td>\n",
       "      <td>1.421069</td>\n",
       "      <td>11.249432</td>\n",
       "      <td>9.877550</td>\n",
       "      <td>0.221145</td>\n",
       "      <td>0.194176</td>\n",
       "    </tr>\n",
       "    <tr>\n",
       "      <th>5</th>\n",
       "      <td>1.444321</td>\n",
       "      <td>1.299889</td>\n",
       "      <td>2.803389</td>\n",
       "      <td>2.523050</td>\n",
       "      <td>16.249276</td>\n",
       "      <td>14.624348</td>\n",
       "      <td>0.279213</td>\n",
       "      <td>0.251292</td>\n",
       "    </tr>\n",
       "    <tr>\n",
       "      <th>6</th>\n",
       "      <td>1.395183</td>\n",
       "      <td>1.255664</td>\n",
       "      <td>1.906301</td>\n",
       "      <td>1.715671</td>\n",
       "      <td>11.330398</td>\n",
       "      <td>10.197358</td>\n",
       "      <td>0.246626</td>\n",
       "      <td>0.221964</td>\n",
       "    </tr>\n",
       "    <tr>\n",
       "      <th>7</th>\n",
       "      <td>1.512617</td>\n",
       "      <td>1.361356</td>\n",
       "      <td>2.094268</td>\n",
       "      <td>1.884841</td>\n",
       "      <td>12.247212</td>\n",
       "      <td>11.022490</td>\n",
       "      <td>0.267780</td>\n",
       "      <td>0.241002</td>\n",
       "    </tr>\n",
       "    <tr>\n",
       "      <th>8</th>\n",
       "      <td>1.396267</td>\n",
       "      <td>1.256640</td>\n",
       "      <td>2.086485</td>\n",
       "      <td>1.877836</td>\n",
       "      <td>13.303764</td>\n",
       "      <td>11.973388</td>\n",
       "      <td>0.234291</td>\n",
       "      <td>0.210862</td>\n",
       "    </tr>\n",
       "    <tr>\n",
       "      <th>9</th>\n",
       "      <td>1.546017</td>\n",
       "      <td>1.357479</td>\n",
       "      <td>2.051062</td>\n",
       "      <td>1.800933</td>\n",
       "      <td>14.184525</td>\n",
       "      <td>12.454705</td>\n",
       "      <td>0.239029</td>\n",
       "      <td>0.209879</td>\n",
       "    </tr>\n",
       "  </tbody>\n",
       "</table>\n",
       "</div>"
      ],
      "text/plain": [
       "                                                       lch  lch_ignr_unkwn  \\\n",
       "dataset             param_id nb_topics topic_idx                             \n",
       "OnlineParticipation e42      10        0          1.353920        1.188808   \n",
       "                                       1          1.454871        1.309384   \n",
       "                                       2          1.623207        1.425255   \n",
       "                                       3          1.315414        1.183873   \n",
       "                                       4          1.305999        1.146730   \n",
       "                                       5          1.444321        1.299889   \n",
       "                                       6          1.395183        1.255664   \n",
       "                                       7          1.512617        1.361356   \n",
       "                                       8          1.396267        1.256640   \n",
       "                                       9          1.546017        1.357479   \n",
       "\n",
       "                                                       res  res_ignr_unkwn  \\\n",
       "dataset             param_id nb_topics topic_idx                             \n",
       "OnlineParticipation e42      10        0          1.341991        1.178334   \n",
       "                                       1          2.810047        2.529042   \n",
       "                                       2          1.766787        1.551325   \n",
       "                                       3          3.044576        2.740118   \n",
       "                                       4          1.618440        1.421069   \n",
       "                                       5          2.803389        2.523050   \n",
       "                                       6          1.906301        1.715671   \n",
       "                                       7          2.094268        1.884841   \n",
       "                                       8          2.086485        1.877836   \n",
       "                                       9          2.051062        1.800933   \n",
       "\n",
       "                                                        jcn  jcn_ignr_unkwn  \\\n",
       "dataset             param_id nb_topics topic_idx                              \n",
       "OnlineParticipation e42      10        0          11.520278       10.115366   \n",
       "                                       1          11.530984       10.377885   \n",
       "                                       2          12.962648       11.381838   \n",
       "                                       3          13.126385       11.813746   \n",
       "                                       4          11.249432        9.877550   \n",
       "                                       5          16.249276       14.624348   \n",
       "                                       6          11.330398       10.197358   \n",
       "                                       7          12.247212       11.022490   \n",
       "                                       8          13.303764       11.973388   \n",
       "                                       9          14.184525       12.454705   \n",
       "\n",
       "                                                       lin  lin_ignr_unkwn  \n",
       "dataset             param_id nb_topics topic_idx                            \n",
       "OnlineParticipation e42      10        0          0.200826        0.176335  \n",
       "                                       1          0.331000        0.297900  \n",
       "                                       2          0.224263        0.196914  \n",
       "                                       3          0.315573        0.284015  \n",
       "                                       4          0.221145        0.194176  \n",
       "                                       5          0.279213        0.251292  \n",
       "                                       6          0.246626        0.221964  \n",
       "                                       7          0.267780        0.241002  \n",
       "                                       8          0.234291        0.210862  \n",
       "                                       9          0.239029        0.209879  "
      ]
     },
     "execution_count": 4,
     "metadata": {},
     "output_type": "execute_result"
    }
   ],
   "source": [
    "dataset = 'O'\n",
    "version, corpus_type, params, nbtopics, topn = 'noun', 'bow', 'e42', 10, 10\n",
    "\n",
    "topics = load('topics', dataset, params, nbtopics)\n",
    "sstopics = topics.applymap(gn.synsets)\n",
    "\n",
    "topics['lch'] = sstopics.progress_apply(similarities, axis=1, sim_func=Synset.sim_lch, agg_func=max, topn=topn)\n",
    "topics['lch_ignr_unkwn'] = sstopics.progress_apply(similarities, axis=1, sim_func=Synset.sim_lch, agg_func=max, topn=topn, ignore_unknown=False)\n",
    "topics['res'] = sstopics.progress_apply(similarities, axis=1, sim_func=Synset.sim_res, agg_func=max, topn=topn)\n",
    "topics['res_ignr_unkwn'] = sstopics.progress_apply(similarities, axis=1, sim_func=Synset.sim_res, agg_func=max, topn=topn, ignore_unknown=False)\n",
    "topics['jcn'] = sstopics.progress_apply(similarities, axis=1, sim_func=Synset.dist_jcn, agg_func=min, topn=topn)\n",
    "topics['jcn_ignr_unkwn'] = sstopics.progress_apply(similarities, axis=1, sim_func=Synset.dist_jcn, agg_func=min, topn=topn, ignore_unknown=False)\n",
    "topics['lin'] = sstopics.progress_apply(similarities, axis=1, sim_func=Synset.sim_lin, agg_func=max, topn=topn)\n",
    "topics['lin_ignr_unkwn'] = sstopics.progress_apply(similarities, axis=1, sim_func=Synset.sim_lin, agg_func=max, topn=topn, ignore_unknown=False)\n",
    "\n",
    "topics = topics.iloc[:, topn:]\n",
    "file = join(LDA_PATH, version, corpus_type, 'topics', f'{dataset}_{version}_{corpus_type}_topic-scores_germanet.csv')\n",
    "print(f'Writing {file}')\n",
    "#topics.to_csv(file)\n",
    "topics"
   ]
  }
 ],
 "metadata": {
  "kernelspec": {
   "display_name": "Python 3",
   "language": "python",
   "name": "python3"
  },
  "language_info": {
   "codemirror_mode": {
    "name": "ipython",
    "version": 3
   },
   "file_extension": ".py",
   "mimetype": "text/x-python",
   "name": "python",
   "nbconvert_exporter": "python",
   "pygments_lexer": "ipython3",
   "version": "3.6.5"
  }
 },
 "nbformat": 4,
 "nbformat_minor": 2
}
