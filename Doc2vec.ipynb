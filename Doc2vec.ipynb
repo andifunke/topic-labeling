{
 "cells": [
  {
   "cell_type": "code",
   "execution_count": 1,
   "metadata": {},
   "outputs": [],
   "source": [
    "import pandas as pd\n",
    "import re\n",
    "from os import listdir\n",
    "from os.path import isfile, join\n",
    "import gc\n",
    "import gensim\n",
    "from gensim.models.doc2vec import Doc2Vec, TaggedDocument\n",
    "import logging\n",
    "from constants import *"
   ]
  },
  {
   "cell_type": "code",
   "execution_count": 26,
   "metadata": {
    "scrolled": true
   },
   "outputs": [
    {
     "name": "stdout",
     "output_type": "stream",
     "text": [
      "dewiki_new_0_49999__10000_simple, "
     ]
    },
    {
     "data": {
      "text/plain": [
       "8812"
      ]
     },
     "execution_count": 26,
     "metadata": {},
     "output_type": "execute_result"
    }
   ],
   "source": [
    "goodids = pd.read_pickle(join(ETL_PATH, 'dewiki_good_ids.pickle'))\n",
    "pattern = re.compile(r'dewiki_n')\n",
    "wikipath = join(SMPL_PATH, 'dewiki')\n",
    "files = sorted([f for f in listdir(wikipath)\n",
    "                if isfile(join(wikipath, f))])\n",
    "\n",
    "def docs_to_lists(token_series):\n",
    "    return tuple(token_series.tolist())\n",
    "\n",
    "tagged_documents = []\n",
    "for name in files[:]:\n",
    "    gc.collect()\n",
    "    corpus = name.split('.')[0]\n",
    "    print(corpus, end=', ')\n",
    "    \n",
    "    f = join(wikipath, name)\n",
    "    df = pd.read_pickle(f)\n",
    "    df = df[df.hash.isin(goodids.index)]\n",
    "    # additional fixes (should have been earlier in the pipeline)\n",
    "    mask = df.token.isin(['[', ']', '<', '>', '/'])\n",
    "    df.loc[mask, POS] = PUNCT\n",
    "    # remove punctuation only for doc2vec\n",
    "    df = df[df.POS != PUNCT]\n",
    "    df = df.groupby([HASH], sort=False)[TOKEN].agg(docs_to_lists)\n",
    "    # the conversion of the hash_id to str is necessary since gensim trys to allocate an array for ids of size 2^64 if int values are too big.\n",
    "    tagged_documents += [TaggedDocument(doc, [str(doc_id)]) for doc_id, doc in df.iteritems()]\n",
    "\n",
    "len(tagged_documents)"
   ]
  },
  {
   "cell_type": "code",
   "execution_count": 28,
   "metadata": {},
   "outputs": [],
   "source": [
    "#model = Doc2Vec(documents, vector_size=5, window=2, min_count=1, workers=4, seed=42)\n",
    "model = Doc2Vec(vector_size=300, window=15, min_count=20, sample=1e-5, workers=3, hs=0, dm=0, negative=5, dbow_words=1, dm_concat=0, epochs=2, seed=42)\n",
    "model.build_vocab(tagged_documents)"
   ]
  },
  {
   "cell_type": "code",
   "execution_count": 29,
   "metadata": {
    "scrolled": false
   },
   "outputs": [
    {
     "name": "stdout",
     "output_type": "stream",
     "text": [
      "CPU times: user 4min 48s, sys: 368 ms, total: 4min 48s\n",
      "Wall time: 1min 36s\n"
     ]
    }
   ],
   "source": [
    "%time model.train(tagged_documents, total_examples=model.corpus_count, epochs=model.epochs)"
   ]
  }
 ],
 "metadata": {
  "kernelspec": {
   "display_name": "Python 3",
   "language": "python",
   "name": "python3"
  },
  "language_info": {
   "codemirror_mode": {
    "name": "ipython",
    "version": 3
   },
   "file_extension": ".py",
   "mimetype": "text/x-python",
   "name": "python",
   "nbconvert_exporter": "python",
   "pygments_lexer": "ipython3",
   "version": "3.6.5"
  }
 },
 "nbformat": 4,
 "nbformat_minor": 1
}
