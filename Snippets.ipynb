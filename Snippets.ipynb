{
 "cells": [
  {
   "cell_type": "markdown",
   "metadata": {},
   "source": [
    "# Snippets\n",
    "\n",
    "short scripts worth keeping"
   ]
  },
  {
   "cell_type": "code",
   "execution_count": 2,
   "metadata": {},
   "outputs": [
    {
     "name": "stdout",
     "output_type": "stream",
     "text": [
      "../../master_cloud/corpora/preprocessed/_dewiki_02_0.pickle\n",
      "../../master_cloud/corpora/preprocessed/_dewiki_02_1.pickle\n"
     ]
    }
   ],
   "source": [
    "# splitting the largest files from the wikipedia corpus to parallelize the nlp pipeline\n",
    "\n",
    "from os.path import join\n",
    "import pandas as pd\n",
    "from constants import *\n",
    "\n",
    "fname = 'dewiki_02.pickle'\n",
    "fpath = join(ETL_PATH, fname)\n",
    "df = pd.read_pickle(fpath)\n",
    "split = 25*1000\n",
    "split *= 2\n",
    "dfs = [df[:1*split], \n",
    "       df[1*split:], \n",
    "       #df[1*split:2*split], \n",
    "       #df[2*split:3*split], \n",
    "       #df[3*split:]\n",
    "      ]\n",
    "length = sum([len(d) for d in dfs])\n",
    "assert len(df) == length\n",
    "df.shape, [d.shape for d in dfs]\n",
    "fsplit = fpath.rsplit('.', 1)\n",
    "for i, d in enumerate(dfs):\n",
    "    f = \"{}_{:d}.{}\".format(fsplit[0], i, fsplit[1])\n",
    "    print(f)\n",
    "    d.to_pickle(f)"
   ]
  },
  {
   "cell_type": "code",
   "execution_count": 5,
   "metadata": {},
   "outputs": [
    {
     "name": "stdout",
     "output_type": "stream",
     "text": [
      "../../master_cloud/corpora/preprocessed/dewiki_01.pickle\n",
      "../../master_cloud/corpora/preprocessed/dewiki_02.pickle\n",
      "../../master_cloud/corpora/preprocessed/dewiki_03.pickle\n",
      "../../master_cloud/corpora/preprocessed/dewiki_04.pickle\n",
      "../../master_cloud/corpora/preprocessed/dewiki_05.pickle\n",
      "../../master_cloud/corpora/preprocessed/dewiki_06.pickle\n",
      "../../master_cloud/corpora/preprocessed/dewiki_07.pickle\n",
      "../../master_cloud/corpora/preprocessed/dewiki_08.pickle\n",
      "../../master_cloud/corpora/preprocessed/dewiki_09.pickle\n",
      "../../master_cloud/corpora/preprocessed/dewiki_10.pickle\n",
      "../../master_cloud/corpora/preprocessed/dewiki_11.pickle\n",
      "../../master_cloud/corpora/preprocessed/dewiki_12.pickle\n",
      "../../master_cloud/corpora/preprocessed/dewiki_13.pickle\n",
      "../../master_cloud/corpora/preprocessed/dewiki_14.pickle\n",
      "../../master_cloud/corpora/preprocessed/dewiki_15.pickle\n",
      "../../master_cloud/corpora/preprocessed/dewiki_16.pickle\n",
      "../../master_cloud/corpora/preprocessed/dewiki_17.pickle\n",
      "../../master_cloud/corpora/preprocessed/dewiki_18.pickle\n",
      "../../master_cloud/corpora/preprocessed/dewiki_19.pickle\n",
      "../../master_cloud/corpora/preprocessed/dewiki_20.pickle\n",
      "../../master_cloud/corpora/preprocessed/dewiki_21.pickle\n",
      "../../master_cloud/corpora/preprocessed/dewiki_22.pickle\n",
      "../../master_cloud/corpora/preprocessed/dewiki_23.pickle\n",
      "../../master_cloud/corpora/preprocessed/dewiki_24.pickle\n",
      "../../master_cloud/corpora/preprocessed/dewiki_25.pickle\n",
      "../../master_cloud/corpora/preprocessed/dewiki_26.pickle\n",
      "../../master_cloud/corpora/preprocessed/dewiki_27.pickle\n",
      "../../master_cloud/corpora/preprocessed/dewiki_28.pickle\n",
      "../../master_cloud/corpora/preprocessed/dewiki_29.pickle\n",
      "../../master_cloud/corpora/preprocessed/dewiki_30.pickle\n",
      "../../master_cloud/corpora/preprocessed/dewiki_31.pickle\n",
      "../../master_cloud/corpora/preprocessed/dewiki_32.pickle\n",
      "../../master_cloud/corpora/preprocessed/dewiki_33.pickle\n",
      "../../master_cloud/corpora/preprocessed/dewiki_34.pickle\n",
      "../../master_cloud/corpora/preprocessed/dewiki_35.pickle\n",
      "../../master_cloud/corpora/preprocessed/dewiki_36.pickle\n",
      "../../master_cloud/corpora/preprocessed/dewiki_37.pickle\n"
     ]
    }
   ],
   "source": [
    "# collecting links from Wikipedia in a separate DataFrame\n",
    "\n",
    "from os.path import join, isfile\n",
    "from os import listdir\n",
    "import pandas as pd\n",
    "from constants import *\n",
    "import re\n",
    "\n",
    "LINK_LIST = []\n",
    "TAGS_LIST = []\n",
    "\n",
    "def collect_links(df):\n",
    "    for doc_id, links in df[LINKS].iteritems():\n",
    "        for link in links:\n",
    "            LINK_LIST.append((doc_id, *link))\n",
    "\n",
    "def collect_tags(df):\n",
    "    for doc_id, categories in df[TAGS].iteritems():\n",
    "        for category in categories:\n",
    "            TAGS_LIST.append((doc_id, category))\n",
    "\n",
    "pattern = re.compile(r'^dewiki_\\d')\n",
    "files = sorted([f for f in listdir(FULL_PATH)\n",
    "                if isfile(join(FULL_PATH, f))\n",
    "                and pattern.match(f)\n",
    "               ])\n",
    "\n",
    "for name in files:\n",
    "    fname = join(ETL_PATH, name)\n",
    "    print(fname)\n",
    "    df = pd.read_pickle(fname)\n",
    "    collect_links(df)\n",
    "    collect_tags(df)\n",
    "\n",
    "del df\n",
    "df_links = pd.DataFrame.from_records(LINK_LIST, columns=['doc_id', 'link', 'norm', 'category'])\n",
    "del LINK_LIST\n",
    "df_tags = pd.DataFrame.from_records(TAGS_LIST, columns=['doc_id', 'category'])\n",
    "del TAGS_LIST\n",
    "df_links.to_pickle(join(ETL_PATH, 'dewiki_links.pickle'))\n",
    "df_tags.to_pickle(join(ETL_PATH, 'dewiki_categories.pickle'))"
   ]
  }
 ],
 "metadata": {
  "kernelspec": {
   "display_name": "Python 3",
   "language": "python",
   "name": "python3"
  },
  "language_info": {
   "codemirror_mode": {
    "name": "ipython",
    "version": 3
   },
   "file_extension": ".py",
   "mimetype": "text/x-python",
   "name": "python",
   "nbconvert_exporter": "python",
   "pygments_lexer": "ipython3",
   "version": "3.6.5"
  }
 },
 "nbformat": 4,
 "nbformat_minor": 1
}
