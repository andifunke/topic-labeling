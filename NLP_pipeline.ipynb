{
 "cells": [
  {
   "cell_type": "code",
   "execution_count": 1,
   "metadata": {},
   "outputs": [],
   "source": [
    "import re\n",
    "from os import listdir, makedirs\n",
    "from os.path import isfile, join\n",
    "from time import time\n",
    "import importlib\n",
    "\n",
    "import constants\n",
    "import project_logging\n",
    "import nlp_processor\n",
    "\n",
    "from constants import *\n",
    "from project_logging import log\n",
    "from nlp_processor import NLPProcessor\n",
    "\n",
    "# set flags to avoid multiple logging handlers\n",
    "NOTEBOOK = True  # additional StreamHandler disabled if True (should always be true in IPython)\n",
    "LOG = False  # set to True to write to log file\n",
    "# LOG_PATH = ...  # overwrite default log file path"
   ]
  },
  {
   "cell_type": "code",
   "execution_count": 2,
   "metadata": {},
   "outputs": [
    {
     "name": "stdout",
     "output_type": "stream",
     "text": [
      "2018-09-09 22:15:07 - NLP_pipe - INFO - ##### START #####\n",
      "2018-09-09 22:15:07 - NLP_pipe - INFO - loading spacy\n",
      "2018-09-09 22:15:07 - NLP_pipe - INFO - reading vocab from ../../master_cloud/corpora/preprocessed/nlp/spacy_model/vocab\n"
     ]
    },
    {
     "ename": "KeyboardInterrupt",
     "evalue": "",
     "output_type": "error",
     "traceback": [
      "\u001b[0;31m---------------------------------------------------------------------------\u001b[0m",
      "\u001b[0;31mKeyboardInterrupt\u001b[0m                         Traceback (most recent call last)",
      "\u001b[0;32m<ipython-input-2-d813d379f1da>\u001b[0m in \u001b[0;36m<module>\u001b[0;34m()\u001b[0m\n\u001b[1;32m     18\u001b[0m files = sorted([f for f in listdir(FULL_PATH)\n\u001b[1;32m     19\u001b[0m                 if (isfile(join(FULL_PATH, f)) and pattern.match(f))])\n\u001b[0;32m---> 20\u001b[0;31m \u001b[0mprocessor\u001b[0m \u001b[0;34m=\u001b[0m \u001b[0mNLPProcessor\u001b[0m\u001b[0;34m(\u001b[0m\u001b[0mspacy_path\u001b[0m\u001b[0;34m=\u001b[0m\u001b[0mDE\u001b[0m\u001b[0;34m)\u001b[0m\u001b[0;34m\u001b[0m\u001b[0m\n\u001b[0m\u001b[1;32m     21\u001b[0m \u001b[0;34m\u001b[0m\u001b[0m\n\u001b[1;32m     22\u001b[0m \u001b[0;32mfor\u001b[0m \u001b[0mname\u001b[0m \u001b[0;32min\u001b[0m \u001b[0mfiles\u001b[0m\u001b[0;34m:\u001b[0m\u001b[0;34m\u001b[0m\u001b[0m\n",
      "\u001b[0;32m~/workspace/topiclabeling/src/nlp_processor.py\u001b[0m in \u001b[0;36m__init__\u001b[0;34m(self, spacy_path, lemmatizer_path)\u001b[0m\n\u001b[1;32m     19\u001b[0m         \u001b[0;32mif\u001b[0m \u001b[0mexists\u001b[0m\u001b[0;34m(\u001b[0m\u001b[0mVOCAB_PATH\u001b[0m\u001b[0;34m)\u001b[0m\u001b[0;34m:\u001b[0m\u001b[0;34m\u001b[0m\u001b[0m\n\u001b[1;32m     20\u001b[0m             \u001b[0mlog\u001b[0m\u001b[0;34m(\u001b[0m\u001b[0;34m\"reading vocab from \"\u001b[0m \u001b[0;34m+\u001b[0m \u001b[0mVOCAB_PATH\u001b[0m\u001b[0;34m)\u001b[0m\u001b[0;34m\u001b[0m\u001b[0m\n\u001b[0;32m---> 21\u001b[0;31m             \u001b[0mself\u001b[0m\u001b[0;34m.\u001b[0m\u001b[0mnlp\u001b[0m\u001b[0;34m.\u001b[0m\u001b[0mvocab\u001b[0m\u001b[0;34m.\u001b[0m\u001b[0mfrom_disk\u001b[0m\u001b[0;34m(\u001b[0m\u001b[0mVOCAB_PATH\u001b[0m\u001b[0;34m)\u001b[0m\u001b[0;34m\u001b[0m\u001b[0m\n\u001b[0m\u001b[1;32m     22\u001b[0m \u001b[0;34m\u001b[0m\u001b[0m\n\u001b[1;32m     23\u001b[0m         \u001b[0mlog\u001b[0m\u001b[0;34m(\u001b[0m\u001b[0;34m\"loading IWNLPWrapper\"\u001b[0m\u001b[0;34m)\u001b[0m\u001b[0;34m\u001b[0m\u001b[0m\n",
      "\u001b[0;32mvocab.pyx\u001b[0m in \u001b[0;36mspacy.vocab.Vocab.from_disk\u001b[0;34m()\u001b[0m\n",
      "\u001b[0;32m~/bin/anaconda3/lib/python3.6/pathlib.py\u001b[0m in \u001b[0;36m__truediv__\u001b[0;34m(self, key)\u001b[0m\n\u001b[1;32m    894\u001b[0m         \u001b[0;32mreturn\u001b[0m \u001b[0mself\u001b[0m\u001b[0;34m.\u001b[0m\u001b[0m_make_child\u001b[0m\u001b[0;34m(\u001b[0m\u001b[0margs\u001b[0m\u001b[0;34m)\u001b[0m\u001b[0;34m\u001b[0m\u001b[0m\n\u001b[1;32m    895\u001b[0m \u001b[0;34m\u001b[0m\u001b[0m\n\u001b[0;32m--> 896\u001b[0;31m     \u001b[0;32mdef\u001b[0m \u001b[0m__truediv__\u001b[0m\u001b[0;34m(\u001b[0m\u001b[0mself\u001b[0m\u001b[0;34m,\u001b[0m \u001b[0mkey\u001b[0m\u001b[0;34m)\u001b[0m\u001b[0;34m:\u001b[0m\u001b[0;34m\u001b[0m\u001b[0m\n\u001b[0m\u001b[1;32m    897\u001b[0m         \u001b[0;32mreturn\u001b[0m \u001b[0mself\u001b[0m\u001b[0;34m.\u001b[0m\u001b[0m_make_child\u001b[0m\u001b[0;34m(\u001b[0m\u001b[0;34m(\u001b[0m\u001b[0mkey\u001b[0m\u001b[0;34m,\u001b[0m\u001b[0;34m)\u001b[0m\u001b[0;34m)\u001b[0m\u001b[0;34m\u001b[0m\u001b[0m\n\u001b[1;32m    898\u001b[0m \u001b[0;34m\u001b[0m\u001b[0m\n",
      "\u001b[0;31mKeyboardInterrupt\u001b[0m: "
     ]
    }
   ],
   "source": [
    "importlib.reload(constants)\n",
    "importlib.reload(project_logging)\n",
    "importlib.reload(nlp_processor)\n",
    "\n",
    "log(\"##### START #####\")\n",
    "\n",
    "\n",
    "### --- run ---\n",
    "\n",
    "t0 = time()\n",
    "\n",
    "LOCAL_PATH = ETL_BASE\n",
    "FULL_PATH = join(DATA_BASE, LOCAL_PATH)\n",
    "\n",
    "# filter files for certain prefixes\n",
    "prefixes = r'^(' + '|'.join(CORPUS_PREFIXES) + r').'\n",
    "pattern = re.compile(prefixes)\n",
    "files = sorted([f for f in listdir(FULL_PATH)\n",
    "                if (isfile(join(FULL_PATH, f)) and pattern.match(f))])\n",
    "processor = NLPProcessor(spacy_path=DE)\n",
    "\n",
    "for name in files:\n",
    "    corpus = re.split(r'\\.|_', name)[0]\n",
    "    fname = join(FULL_PATH, name)\n",
    "    df = processor.read_process_load(fname, corpus, spacy_to_disk=False, size=1)\n",
    "\n",
    "t1 = int(time() - t0)\n",
    "log(\"finished in {:02d}:{:02d}:{:02d} minutes\".format(t1//3600, t1//60, t1 % 60))\n",
    "\n",
    "df"
   ]
  },
  {
   "cell_type": "code",
   "execution_count": null,
   "metadata": {},
   "outputs": [],
   "source": [
    "print('-----')\n",
    "processor.read('/home/andreas/workspace/master_cloud/corpora/preprocessed/nlp/OnlineParticipation_nlp.pickle')"
   ]
  }
 ],
 "metadata": {
  "kernelspec": {
   "display_name": "Python 3",
   "language": "python",
   "name": "python3"
  },
  "language_info": {
   "codemirror_mode": {
    "name": "ipython",
    "version": 3
   },
   "file_extension": ".py",
   "mimetype": "text/x-python",
   "name": "python",
   "nbconvert_exporter": "python",
   "pygments_lexer": "ipython3",
   "version": "3.6.5"
  }
 },
 "nbformat": 4,
 "nbformat_minor": 1
}
