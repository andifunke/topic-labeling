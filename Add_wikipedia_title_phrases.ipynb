{
 "cells": [
  {
   "cell_type": "markdown",
   "metadata": {},
   "source": [
    "# Add Wikipedia title phrases\n",
    "\n",
    "This notebook searches for adjacent, original and lemmatized tokens (5-grams) which are equal to lemmatized Wikipedia titles of length 2-5.\n",
    "\n",
    "It replaces these tokens with a single, concatenated token.\n",
    "\n",
    "This processing step is already applied when running the phrase_extraction_in_batches.py script. Apply this notebook only on files that are missing this step."
   ]
  },
  {
   "cell_type": "code",
   "execution_count": 4,
   "metadata": {},
   "outputs": [],
   "source": [
    "# coding: utf-8\n",
    "\n",
    "from constants import *\n",
    "from os import listdir\n",
    "from os.path import isfile, join\n",
    "import gc\n",
    "import pandas as pd\n",
    "import re\n",
    "from tqdm import tqdm\n",
    "tqdm.pandas()\n",
    "pd.options.display.max_rows = 2001"
   ]
  },
  {
   "cell_type": "code",
   "execution_count": 5,
   "metadata": {},
   "outputs": [
    {
     "name": "stdout",
     "output_type": "stream",
     "text": [
      "FOCUS_cleansed_simple\n"
     ]
    },
    {
     "name": "stderr",
     "output_type": "stream",
     "text": [
      "100%|██████████| 24652775/24652775 [31:30<00:00, 13042.51it/s]\n"
     ]
    },
    {
     "name": "stdout",
     "output_type": "stream",
     "text": [
      "Writing ../data/preprocessed/simple/wiki_phrases/FOCUS_cleansed_simple_wiki_phrases.pickle\n"
     ]
    }
   ],
   "source": [
    "pattern = re.compile(r'FO')\n",
    "files = sorted([\n",
    "    f for f in listdir(SMPL_PATH)\n",
    "    if (isfile(join(SMPL_PATH, f)) and pattern.match(f))\n",
    "])\n",
    "\n",
    "for name in files[:]:\n",
    "    gc.collect()\n",
    "    corpus = name.split('.')[0]\n",
    "    print(corpus)\n",
    "    f = join(SMPL_PATH, f'{corpus}.pickle')\n",
    "    df = pd.read_pickle(f)\n",
    "\n",
    "    # filter Wikipedia documents. Process only valid articles. Might be redundant.\n",
    "    if name.startswith('dewiki'):\n",
    "        if goodids is None:\n",
    "            goodids = pd.read_pickle(join(ETL_PATH, 'dewiki_good_ids.pickle'))\n",
    "        df = df[df.hash.isin(goodids.index)]\n",
    "\n",
    "    # fixes wrong POS tagging for punctuation. Might be redundant.\n",
    "    mask_punct = df[TOKEN].isin(list('[]<>/–%'))\n",
    "    df.loc[mask_punct, POS] = PUNCT\n",
    "\n",
    "    df = insert_wikipedia_phrases(df)\n",
    "    f = join(SMPL_PATH, 'wiki_phrases', f'{corpus}_wiki_phrases.pickle')\n",
    "    print(f'Writing {f}')\n",
    "    df.to_pickle(f)\n",
    "    gc.collect()"
   ]
  }
 ],
 "metadata": {
  "kernelspec": {
   "display_name": "Python 3",
   "language": "python",
   "name": "python3"
  },
  "language_info": {
   "codemirror_mode": {
    "name": "ipython",
    "version": 3
   },
   "file_extension": ".py",
   "mimetype": "text/x-python",
   "name": "python",
   "nbconvert_exporter": "python",
   "pygments_lexer": "ipython3",
   "version": "3.6.5"
  }
 },
 "nbformat": 4,
 "nbformat_minor": 2
}
