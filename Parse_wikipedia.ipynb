{
 "cells": [
  {
   "cell_type": "markdown",
   "metadata": {},
   "source": [
    "### Parse Wikipedia"
   ]
  },
  {
   "cell_type": "code",
   "execution_count": 1,
   "metadata": {},
   "outputs": [],
   "source": [
    "from time import time\n",
    "from os.path import join\n",
    "import csv\n",
    "import locale\n",
    "locale.setlocale(locale.LC_ALL, '')\n",
    "\n",
    "from constants import DATA_BASE\n",
    "\n",
    "# Warning: The xml.etree.ElementTree module is not secure against maliciously constructed data. \n",
    "# If you need to parse untrusted or unauthenticated data see XML vulnerabilities \n",
    "# (https://docs.python.org/3/library/xml.html#xml-vulnerabilities)\n",
    "import xml.etree.ElementTree as ET"
   ]
  },
  {
   "cell_type": "code",
   "execution_count": 24,
   "metadata": {},
   "outputs": [],
   "source": [
    "PATH_WIKI_XML = join(DATA_BASE, 'dewiki')\n",
    "FILENAME_WIKI = 'dewiki-latest-pages-articles.xml'\n",
    "FILENAME_ARTICLES = 'articles.csv'\n",
    "\n",
    "pathWikiXML = join(PATH_WIKI_XML, FILENAME_WIKI)\n",
    "pathArticles = join(PATH_WIKI_XML, FILENAME_ARTICLES)\n",
    "pathArticlesRedirect = join(PATH_WIKI_XML, FILENAME_REDIRECT)\n",
    "pathTemplateRedirect = join(PATH_WIKI_XML, FILENAME_TEMPLATE)"
   ]
  },
  {
   "cell_type": "code",
   "execution_count": 38,
   "metadata": {},
   "outputs": [],
   "source": [
    "# Nicely formatted time string\n",
    "def hms_string(sec_elapsed):\n",
    "    h = int(sec_elapsed / (60 * 60))\n",
    "    m = int((sec_elapsed % (60 * 60)) / 60)\n",
    "    s = sec_elapsed % 60\n",
    "    return \"{}:{:>02}:{:>05.2f}\".format(h, m, s)\n",
    "\n",
    "def strip_tag(tag):\n",
    "    return tag.split('}', 1)[1] if '}' in tag else tag\n",
    "\n",
    "def split_title(title):\n",
    "    split = title.find('(', 1)\n",
    "    split = None if split < 1 else split\n",
    "    return title[:split], (title[split:] if split else '')\n"
   ]
  },
  {
   "cell_type": "code",
   "execution_count": 144,
   "metadata": {},
   "outputs": [],
   "source": [
    "import re\n",
    "from w3lib.html import remove_tags, remove_tags_with_content\n",
    "from html import unescape\n",
    "\n",
    "box = re.compile(r\"{{(.|\\n)*}}\")\n",
    "datei = re.compile(r\"\\[{2}Datei:(.|\\n)*\\]{2}\")\n",
    "remove1 = r\"|\".join([r\"\\'{2,}\", r\"\\[{2,}\" , r\"\\]{2,}\"])\n",
    "remove2 = r\"|\".join([r\"\\n={2,} \", r\" ={2,}\\n\"])\n",
    "re1 = re.compile(remove1)\n",
    "re2 = re.compile(remove2)\n",
    "\n",
    "def parse_text(text):\n",
    "    text = unescape(text)\n",
    "    text = remove_tags(remove_tags_with_content(text, ('ref',)))\n",
    "    text = box.sub('', text)\n",
    "    text = datei.sub('', text)\n",
    "    text = re1.sub('', text)\n",
    "    text = re2.sub('\\n', text)\n",
    "    return text[:1000]"
   ]
  },
  {
   "cell_type": "code",
   "execution_count": 146,
   "metadata": {
    "scrolled": true
   },
   "outputs": [
    {
     "name": "stdout",
     "output_type": "stream",
     "text": [
      "Starting ...\n",
      "100\n",
      "200\n",
      "300\n",
      "400\n",
      "500\n",
      "600\n",
      "700\n",
      "800\n",
      "900\n",
      "1.000\n",
      "Article pages: 1.000\n",
      "Elapsed time: 0:00:02.59\n"
     ]
    }
   ],
   "source": [
    "articleCount = 0\n",
    "row = None\n",
    "is_article = False\n",
    "is_liste = False\n",
    "\n",
    "print('Starting ...')\n",
    "\n",
    "t0 = time()\n",
    "\n",
    "with open(pathWikiXML, 'r') as fr, open(pathArticles, 'w') as fw:\n",
    "    \n",
    "    fields = ['id', 'title', 'subtitle', 'text', 'timestamp', 'categories', 'redirect']\n",
    "    writer = csv.DictWriter(fw, fields, quoting=csv.QUOTE_MINIMAL)\n",
    "    writer.writeheader()\n",
    "\n",
    "    for event, elem in ET.iterparse(fr, events=['start', 'end']):\n",
    "        tag = strip_tag(elem.tag)\n",
    "        #print(i, tag, elem.attrib)\n",
    "\n",
    "        if event == 'start':\n",
    "            # start new row\n",
    "            if tag == 'page':\n",
    "                row = dict()\n",
    "        else:\n",
    "            if tag == 'ns' and int(elem.text) == 0 and not is_liste:\n",
    "                is_article = True\n",
    "            elif tag == 'redirect':\n",
    "                row[tag] = elem.get('title')\n",
    "            elif tag == 'timestamp':\n",
    "                row[tag] = elem.text\n",
    "            elif tag == 'id' and tag not in row:\n",
    "                row[tag] = elem.text\n",
    "            elif tag == 'title':\n",
    "                if elem.text.startswith('Liste von'):\n",
    "                    is_liste = True\n",
    "                row[tag], row['subtitle'] = split_title(elem.text)\n",
    "            elif tag == 'text' and 'redirect' not in row:\n",
    "                row[tag] = parse_text(elem.text)\n",
    "                if not row[tag]:\n",
    "                    is_article = False\n",
    "            # write and close row\n",
    "            elif tag == 'page':\n",
    "                if is_article:\n",
    "                    writer.writerow(row)\n",
    "                    articleCount += 1\n",
    "                    if articleCount > 1 and (articleCount % 100) == 0:\n",
    "                        print(locale.format(\"%d\", articleCount, grouping=True))\n",
    "                row = None\n",
    "                is_article = is_liste = False\n",
    "            elem.clear()\n",
    "            \n",
    "        if articleCount == 1000:\n",
    "            break\n",
    "            \n",
    "        \n",
    "t1 = time() - t0\n",
    "\n",
    "print(\"Article pages:\", locale.format(\"%d\", articleCount, grouping=True))\n",
    "print(\"Elapsed time:\", hms_string(t1))"
   ]
  },
  {
   "cell_type": "code",
   "execution_count": 27,
   "metadata": {},
   "outputs": [],
   "source": [
    "!jt -t solarizedd"
   ]
  }
 ],
 "metadata": {
  "kernelspec": {
   "display_name": "Python 3",
   "language": "python",
   "name": "python3"
  },
  "language_info": {
   "codemirror_mode": {
    "name": "ipython",
    "version": 3
   },
   "file_extension": ".py",
   "mimetype": "text/x-python",
   "name": "python",
   "nbconvert_exporter": "python",
   "pygments_lexer": "ipython3",
   "version": "3.6.5"
  }
 },
 "nbformat": 4,
 "nbformat_minor": 2
}
