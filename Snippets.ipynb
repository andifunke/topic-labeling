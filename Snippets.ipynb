{
 "cells": [
  {
   "cell_type": "code",
   "execution_count": 27,
   "metadata": {},
   "outputs": [
    {
     "name": "stdout",
     "output_type": "stream",
     "text": [
      "../../master_cloud/corpora/preprocessed/dewiki_02_0.pickle\n",
      "../../master_cloud/corpora/preprocessed/dewiki_02_1.pickle\n"
     ]
    }
   ],
   "source": [
    "# splitting the largest files from the wikipedia corpus to parallelize the nlp pipeline\n",
    "\n",
    "from os.path import join\n",
    "import pandas as pd\n",
    "from constants import *\n",
    "\n",
    "fname = 'dewiki_02.pickle'\n",
    "fpath = join(ETL_PATH, fname)\n",
    "df = pd.read_pickle(fpath)\n",
    "split = 25*1000\n",
    "split *= 2\n",
    "dfs = [df[:1*split], \n",
    "       df[1*split:], \n",
    "       #df[1*split:2*split], \n",
    "       #df[2*split:3*split], \n",
    "       #df[3*split:]\n",
    "      ]\n",
    "length = sum([len(d) for d in dfs])\n",
    "assert len(df) == length\n",
    "df.shape, [d.shape for d in dfs]\n",
    "fsplit = fpath.rsplit('.', 1)\n",
    "for i, d in enumerate(dfs):\n",
    "    f = \"{}_{:d}.{}\".format(fsplit[0], i, fsplit[1])\n",
    "    print(f)\n",
    "    d.to_pickle(f)"
   ]
  }
 ],
 "metadata": {
  "kernelspec": {
   "display_name": "Python 3",
   "language": "python",
   "name": "python3"
  },
  "language_info": {
   "codemirror_mode": {
    "name": "ipython",
    "version": 3
   },
   "file_extension": ".py",
   "mimetype": "text/x-python",
   "name": "python",
   "nbconvert_exporter": "python",
   "pygments_lexer": "ipython3",
   "version": "3.6.5"
  }
 },
 "nbformat": 4,
 "nbformat_minor": 1
}
