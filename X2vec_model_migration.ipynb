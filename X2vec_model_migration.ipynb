{
 "cells": [
  {
   "cell_type": "code",
   "execution_count": 12,
   "metadata": {},
   "outputs": [],
   "source": [
    "import os\n",
    "import gensim\n",
    "import pandas as pd\n",
    "# TODO: changed\n",
    "from gensim.models.deprecated.doc2vec import Doc2Vec as Doc2VecDep\n",
    "from gensim.models.deprecated.doc2vec import Word2Vec as Word2VecDep\n",
    "from gensim.models.doc2vec import Doc2Vec\n",
    "from gensim.models.word2vec import Word2Vec\n",
    "import math\n",
    "from collections import defaultdict\n",
    "from numpy import exp, log, dot, zeros, outer, random, dtype, float32 as REAL, \\\n",
    "    double, uint32, seterr, array, uint8, vstack, fromstring, sqrt, newaxis, \\\n",
    "    ndarray, empty, sum as np_sum, prod, ones, ascontiguousarray\n",
    "from gensim import utils, matutils\n",
    "import re\n",
    "import pickle\n",
    "import argparse\n",
    "\n",
    "models_path = '../../master_cloud/external_code/NETL-Automatic-Topic-Labelling-/model_run/pre_trained_models/'\n",
    "doc2vecmodel = models_path + 'doc2vec_en/docvecmodel.d2v'\n",
    "word2vecmodel = models_path + 'word2vec_en/word2vec'"
   ]
  },
  {
   "cell_type": "code",
   "execution_count": 5,
   "metadata": {},
   "outputs": [
    {
     "name": "stdout",
     "output_type": "stream",
     "text": [
      "############ 1\n",
      "############ 2\n",
      "############ 3\n",
      "models loaded\n"
     ]
    }
   ],
   "source": [
    "# Models loaded\n",
    "print(\"############ 1\")\n",
    "d2v_dep = Doc2VecDep.load(doc2vecmodel)\n",
    "print(\"############ 2\")\n",
    "w2v_dep = Word2VecDep.load(word2vecmodel)\n",
    "print(\"############ 3\")\n",
    "print (\"models loaded\")"
   ]
  },
  {
   "cell_type": "code",
   "execution_count": 11,
   "metadata": {},
   "outputs": [
    {
     "ename": "AttributeError",
     "evalue": "'DocvecsArray' object has no attribute 'save_word2vec_format'",
     "output_type": "error",
     "traceback": [
      "\u001b[0;31m---------------------------------------------------------------------------\u001b[0m",
      "\u001b[0;31mAttributeError\u001b[0m                            Traceback (most recent call last)",
      "\u001b[0;32m<ipython-input-11-e89015b1568b>\u001b[0m in \u001b[0;36m<module>\u001b[0;34m()\u001b[0m\n\u001b[0;32m----> 1\u001b[0;31m \u001b[0md2v_dep\u001b[0m\u001b[0;34m.\u001b[0m\u001b[0mdocvecs\u001b[0m\u001b[0;34m.\u001b[0m\u001b[0msave_word2vec_format\u001b[0m\u001b[0;34m(\u001b[0m\u001b[0mmodels_path\u001b[0m \u001b[0;34m+\u001b[0m \u001b[0;34m'd2v_docvecs'\u001b[0m\u001b[0;34m)\u001b[0m\u001b[0;34m\u001b[0m\u001b[0m\n\u001b[0m",
      "\u001b[0;31mAttributeError\u001b[0m: 'DocvecsArray' object has no attribute 'save_word2vec_format'"
     ]
    }
   ],
   "source": [
    "d2v_dep.docvecs.save_word2vec_format(models_path + 'd2v_docvecs')"
   ]
  },
  {
   "cell_type": "code",
   "execution_count": 10,
   "metadata": {},
   "outputs": [],
   "source": [
    "d2v_dep.wv.save_word2vec_format(models_path + 'd2v_vecs')"
   ]
  },
  {
   "cell_type": "code",
   "execution_count": null,
   "metadata": {},
   "outputs": [],
   "source": [
    "Two methods and several attributes in word2vec class have been deprecated.\n",
    "\n",
    "Methods\n",
    "\n",
    "    load_word2vec_format\n",
    "    save_word2vec_format\n",
    "\n",
    "Attributes\n",
    "\n",
    "    syn0norm\n",
    "    syn0\n",
    "    vocab\n",
    "    index2word\n",
    "\n",
    "These have been moved to KeyedVectors class.\n",
    "\n",
    "After upgrading to this release you might get exceptions about deprecated methods or missing attributes.\n",
    "\n",
    "To remove the exceptions, you should use\n",
    "\n",
    "KeyedVectors.load_word2vec_format (instead ofWord2Vec.load_word2vec_format)\n",
    "word2vec_model.wv.save_word2vec_format (instead of  word2vec_model.save_word2vec_format)\n",
    "model.wv.syn0norm instead of  (model.syn0norm)\n",
    "model.wv.syn0 instead of  (model.syn0)\n",
    "model.wv.vocab instead of (model.vocab)\n",
    "model.wv.index2word instead of (model.index2word)"
   ]
  },
  {
   "cell_type": "code",
   "execution_count": 41,
   "metadata": {},
   "outputs": [
    {
     "name": "stdout",
     "output_type": "stream",
     "text": [
      "None\n",
      "[[-1.14631422e-01  8.57559294e-02  1.09951079e-01 ...  1.08812824e-01\n",
      "   5.07121161e-02 -3.91997024e-02]\n",
      " [-1.01012811e-01  1.10150337e-01  1.17076345e-01 ...  1.77452773e-01\n",
      "   2.25929487e-02 -7.89066851e-02]\n",
      " [ 1.16585009e-02  6.18073642e-02  7.83362091e-02 ...  1.65795416e-01\n",
      "   1.04858018e-01 -1.59634322e-01]\n",
      " ...\n",
      " [ 3.11885595e-01 -4.37479109e-01  1.12433219e+00 ...  1.18625867e+00\n",
      "  -1.31871432e-01 -1.12709308e+00]\n",
      " [ 5.37048399e-01  5.24597466e-01  2.25526705e-01 ... -3.94165307e-01\n",
      "  -2.10513636e-01 -4.54325438e-01]\n",
      " [-1.09623158e+00 -5.33300817e-01 -3.81506234e-01 ... -6.64076128e-04\n",
      "   3.03971708e-01 -2.46074736e-01]]\n",
      "['tripolitan', 'biennials', 'soestdijk', 'æ\\x9c\\x94æ\\x96¹', 'jÃ¶tunn', 'set_weights', 'maderista', 'talk.origins', 'music_video_games', 'westbury_square']\n",
      "[',', '.', 'the', 'of', 'and', 'in', 'a', 'to', \"''\", '``']\n",
      "\n",
      "\n",
      "None\n",
      "[[-1.14631422e-01  8.57559294e-02  1.09951079e-01 ...  1.08812824e-01\n",
      "   5.07121161e-02 -3.91997024e-02]\n",
      " [-1.01012811e-01  1.10150337e-01  1.17076345e-01 ...  1.77452773e-01\n",
      "   2.25929487e-02 -7.89066851e-02]\n",
      " [ 1.16585009e-02  6.18073642e-02  7.83362091e-02 ...  1.65795416e-01\n",
      "   1.04858018e-01 -1.59634322e-01]\n",
      " ...\n",
      " [ 3.11885595e-01 -4.37479109e-01  1.12433219e+00 ...  1.18625867e+00\n",
      "  -1.31871432e-01 -1.12709308e+00]\n",
      " [ 5.37048399e-01  5.24597466e-01  2.25526705e-01 ... -3.94165307e-01\n",
      "  -2.10513636e-01 -4.54325438e-01]\n",
      " [-1.09623158e+00 -5.33300817e-01 -3.81506234e-01 ... -6.64076128e-04\n",
      "   3.03971708e-01 -2.46074736e-01]]\n",
      "['tripolitan', 'biennials', 'soestdijk', 'æ\\x9c\\x94æ\\x96¹', 'jÃ¶tunn', 'set_weights', 'maderista', 'talk.origins', 'music_video_games', 'westbury_square']\n",
      "[',', '.', 'the', 'of', 'and', 'in', 'a', 'to', \"''\", '``']\n"
     ]
    }
   ],
   "source": [
    "from itertools import islice\n",
    "#print(list(islice(w2v_dep.wv.vocab, 10)))\n",
    "print(w2v_dep.wv.syn0norm)\n",
    "print(w2v_dep.wv.syn0)\n",
    "print(list(islice(w2v_dep.wv.vocab, 10)))\n",
    "print(list(islice(w2v_dep.wv.index2word, 10)))\n",
    "print()\n",
    "print()\n",
    "print(w2v_dep.syn0norm)\n",
    "print(w2v_dep.syn0)\n",
    "print(list(islice(w2v_dep.vocab, 10)))\n",
    "print(list(islice(w2v_dep.index2word, 10)))"
   ]
  },
  {
   "cell_type": "code",
   "execution_count": null,
   "metadata": {},
   "outputs": [],
   "source": []
  },
  {
   "cell_type": "code",
   "execution_count": 9,
   "metadata": {},
   "outputs": [],
   "source": [
    "w2v_dep.wv.save_word2vec_format(models_path + 'w2v_vecs')"
   ]
  },
  {
   "cell_type": "code",
   "execution_count": 14,
   "metadata": {},
   "outputs": [],
   "source": [
    "d2v = Doc2Vec(\n",
    "    vector_size=300, \n",
    "    window=15,\n",
    "    min_count=20,\n",
    "    sample=1e-5,\n",
    "    workers=1, \n",
    "    hs=0, \n",
    "    dm=0, \n",
    "    negative=5,\n",
    "    dbow_words=1, \n",
    "    dm_concat=0\n",
    ")\n"
   ]
  },
  {
   "cell_type": "code",
   "execution_count": 15,
   "metadata": {},
   "outputs": [],
   "source": [
    "w2v = Word2Vec(\n",
    "    size=300,\n",
    "    window=5,\n",
    "    min_count=20,\n",
    "    sample=1e-5,\n",
    "    negative=5,\n",
    "    sg=1,\n",
    "    workers=1,\n",
    ")"
   ]
  },
  {
   "cell_type": "code",
   "execution_count": 48,
   "metadata": {},
   "outputs": [
    {
     "name": "stdout",
     "output_type": "stream",
     "text": [
      "None\n",
      "None\n",
      "[[-1.14631422e-01  8.57559294e-02  1.09951079e-01 ...  1.08812824e-01\n",
      "   5.07121161e-02 -3.91997024e-02]\n",
      " [-1.01012811e-01  1.10150337e-01  1.17076345e-01 ...  1.77452773e-01\n",
      "   2.25929487e-02 -7.89066851e-02]\n",
      " [ 1.16585009e-02  6.18073642e-02  7.83362091e-02 ...  1.65795416e-01\n",
      "   1.04858018e-01 -1.59634322e-01]\n",
      " ...\n",
      " [ 3.11885595e-01 -4.37479109e-01  1.12433219e+00 ...  1.18625867e+00\n",
      "  -1.31871432e-01 -1.12709308e+00]\n",
      " [ 5.37048399e-01  5.24597466e-01  2.25526705e-01 ... -3.94165307e-01\n",
      "  -2.10513636e-01 -4.54325438e-01]\n",
      " [-1.09623158e+00 -5.33300817e-01 -3.81506234e-01 ... -6.64076128e-04\n",
      "   3.03971708e-01 -2.46074736e-01]]\n",
      "[[-1.14631422e-01  8.57559294e-02  1.09951079e-01 ...  1.08812824e-01\n",
      "   5.07121161e-02 -3.91997024e-02]\n",
      " [-1.01012811e-01  1.10150337e-01  1.17076345e-01 ...  1.77452773e-01\n",
      "   2.25929487e-02 -7.89066851e-02]\n",
      " [ 1.16585009e-02  6.18073642e-02  7.83362091e-02 ...  1.65795416e-01\n",
      "   1.04858018e-01 -1.59634322e-01]\n",
      " ...\n",
      " [ 3.11885595e-01 -4.37479109e-01  1.12433219e+00 ...  1.18625867e+00\n",
      "  -1.31871432e-01 -1.12709308e+00]\n",
      " [ 5.37048399e-01  5.24597466e-01  2.25526705e-01 ... -3.94165307e-01\n",
      "  -2.10513636e-01 -4.54325438e-01]\n",
      " [-1.09623158e+00 -5.33300817e-01 -3.81506234e-01 ... -6.64076128e-04\n",
      "   3.03971708e-01 -2.46074736e-01]]\n",
      "['tripolitan', 'biennials', 'soestdijk', 'æ\\x9c\\x94æ\\x96¹', 'jÃ¶tunn', 'set_weights', 'maderista', 'talk.origins', 'music_video_games', 'westbury_square']\n",
      "[',', '.', 'the', 'of', 'and', 'in', 'a', 'to', \"''\", '``']\n",
      "\n",
      "\n"
     ]
    },
    {
     "name": "stderr",
     "output_type": "stream",
     "text": [
      "/home/andreas/bin/anaconda3/lib/python3.6/site-packages/ipykernel_launcher.py:1: DeprecationWarning: Call to deprecated `syn0norm` (Attribute will be removed in 4.0.0, use self.wv.vectors_norm instead).\n",
      "  \"\"\"Entry point for launching an IPython kernel.\n",
      "/home/andreas/bin/anaconda3/lib/python3.6/site-packages/ipykernel_launcher.py:3: DeprecationWarning: Call to deprecated `syn0` (Attribute will be removed in 4.0.0, use self.wv.vectors instead).\n",
      "  This is separate from the ipykernel package so we can avoid doing imports until\n"
     ]
    }
   ],
   "source": [
    "print(w2v.wv.syn0norm) # deprecated\n",
    "print(w2v.wv.vectors_norm) # replaces syn0norm\n",
    "print(w2v.wv.syn0) # deprecated\n",
    "print(w2v.wv.vectors) # replaces syn0\n",
    "print(list(islice(w2v.wv.vocab, 10)))\n",
    "print(list(islice(w2v.wv.index2word, 10)))\n",
    "print()\n",
    "print()\n",
    "#print(w2v.syn0norm) # removed\n",
    "#print(w2v.syn0) # removed\n",
    "#print(list(islice(w2v.vocab, 10))) # removed\n",
    "#print(list(islice(w2v.index2word, 10))) # removed"
   ]
  },
  {
   "cell_type": "code",
   "execution_count": 47,
   "metadata": {},
   "outputs": [
    {
     "name": "stderr",
     "output_type": "stream",
     "text": [
      "/home/andreas/bin/anaconda3/lib/python3.6/site-packages/ipykernel_launcher.py:1: DeprecationWarning: Call to deprecated `syn0norm` (Attribute will be removed in 4.0.0, use self.wv.vectors_norm instead).\n",
      "  \"\"\"Entry point for launching an IPython kernel.\n",
      "/home/andreas/bin/anaconda3/lib/python3.6/site-packages/ipykernel_launcher.py:3: DeprecationWarning: Call to deprecated `syn0` (Attribute will be removed in 4.0.0, use self.wv.vectors instead).\n",
      "  This is separate from the ipykernel package so we can avoid doing imports until\n"
     ]
    }
   ],
   "source": [
    "w2v.wv.syn0norm = w2v_dep.syn0norm\n",
    "w2v.wv.vectors_norm = w2v_dep.syn0norm\n",
    "w2v.wv.syn0 = w2v_dep.syn0\n",
    "w2v.wv.vectors = w2v_dep.syn0\n",
    "w2v.wv.vocab = w2v_dep.vocab\n",
    "w2v.wv.index2word = w2v_dep.index2word"
   ]
  }
 ],
 "metadata": {
  "kernelspec": {
   "display_name": "Python 3",
   "language": "python",
   "name": "python3"
  },
  "language_info": {
   "codemirror_mode": {
    "name": "ipython",
    "version": 3
   },
   "file_extension": ".py",
   "mimetype": "text/x-python",
   "name": "python",
   "nbconvert_exporter": "python",
   "pygments_lexer": "ipython3",
   "version": "3.6.5"
  }
 },
 "nbformat": 4,
 "nbformat_minor": 2
}
